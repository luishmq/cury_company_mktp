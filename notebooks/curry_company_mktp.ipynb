{
 "cells": [
  {
   "cell_type": "markdown",
   "id": "69a676b7",
   "metadata": {
    "ExecuteTime": {
     "end_time": "2023-04-23T13:04:33.841290Z",
     "start_time": "2023-04-23T13:04:26.456416Z"
    }
   },
   "source": [
    "# 0.0 Imports"
   ]
  },
  {
   "cell_type": "code",
   "execution_count": 1,
   "id": "e630c587",
   "metadata": {
    "ExecuteTime": {
     "end_time": "2023-04-24T21:45:07.626138Z",
     "start_time": "2023-04-24T21:45:06.786388Z"
    }
   },
   "outputs": [],
   "source": [
    "import pandas         as pd\n",
    "import numpy          as np\n",
    "import seaborn        as sns\n",
    "import plotly.express as px\n",
    "import re\n",
    "import inflection\n",
    "import folium\n",
    "\n",
    "from haversine import haversine\n",
    "from IPython.core.display import HTML\n",
    "from matplotlib           import pyplot as plt"
   ]
  },
  {
   "cell_type": "markdown",
   "id": "13974a4e",
   "metadata": {},
   "source": [
    "## 0.1 Helper Functions"
   ]
  },
  {
   "cell_type": "code",
   "execution_count": 2,
   "id": "87133369",
   "metadata": {
    "ExecuteTime": {
     "end_time": "2023-04-24T21:45:08.620718Z",
     "start_time": "2023-04-24T21:45:08.608360Z"
    }
   },
   "outputs": [],
   "source": [
    "def jupyter_settings():\n",
    "    %matplotlib inline\n",
    "    %pylab inline\n",
    "\n",
    "    plt.style.use( 'bmh' )\n",
    "    plt.rcParams['figure.figsize'] = [25, 12]\n",
    "    plt.rcParams['font.size'] = 24\n",
    "    \n",
    "    display( HTML( '<style>.container { width:100% !important; }</style>') )\n",
    "    pd.options.display.max_columns = None\n",
    "    pd.options.display.max_rows = None\n",
    "    pd.set_option( 'display.expand_frame_repr', False )\n",
    "    \n",
    "    sns.set()"
   ]
  },
  {
   "cell_type": "code",
   "execution_count": 3,
   "id": "1920ffb3",
   "metadata": {
    "ExecuteTime": {
     "end_time": "2023-04-24T21:45:09.239190Z",
     "start_time": "2023-04-24T21:45:09.214336Z"
    }
   },
   "outputs": [
    {
     "name": "stdout",
     "output_type": "stream",
     "text": [
      "%pylab is deprecated, use %matplotlib inline and import the required libraries.\n",
      "Populating the interactive namespace from numpy and matplotlib\n"
     ]
    },
    {
     "data": {
      "text/html": [
       "<style>.container { width:100% !important; }</style>"
      ],
      "text/plain": [
       "<IPython.core.display.HTML object>"
      ]
     },
     "metadata": {},
     "output_type": "display_data"
    }
   ],
   "source": [
    "jupyter_settings()"
   ]
  },
  {
   "cell_type": "markdown",
   "id": "fe919075",
   "metadata": {},
   "source": [
    "## 0.2 Loading data"
   ]
  },
  {
   "cell_type": "code",
   "execution_count": 4,
   "id": "ea0ec168",
   "metadata": {
    "ExecuteTime": {
     "end_time": "2023-04-24T21:45:10.744393Z",
     "start_time": "2023-04-24T21:45:10.629903Z"
    }
   },
   "outputs": [],
   "source": [
    "# Lendo do Arquivo\n",
    "df = pd.read_csv( '../datasets/train.csv' )"
   ]
  },
  {
   "cell_type": "code",
   "execution_count": 5,
   "id": "7978159e",
   "metadata": {
    "ExecuteTime": {
     "end_time": "2023-04-24T21:45:11.542755Z",
     "start_time": "2023-04-24T21:45:11.515930Z"
    }
   },
   "outputs": [
    {
     "data": {
      "text/html": [
       "<div>\n",
       "<style scoped>\n",
       "    .dataframe tbody tr th:only-of-type {\n",
       "        vertical-align: middle;\n",
       "    }\n",
       "\n",
       "    .dataframe tbody tr th {\n",
       "        vertical-align: top;\n",
       "    }\n",
       "\n",
       "    .dataframe thead th {\n",
       "        text-align: right;\n",
       "    }\n",
       "</style>\n",
       "<table border=\"1\" class=\"dataframe\">\n",
       "  <thead>\n",
       "    <tr style=\"text-align: right;\">\n",
       "      <th></th>\n",
       "      <th>ID</th>\n",
       "      <th>Delivery_person_ID</th>\n",
       "      <th>Delivery_person_Age</th>\n",
       "      <th>Delivery_person_Ratings</th>\n",
       "      <th>Restaurant_latitude</th>\n",
       "      <th>Restaurant_longitude</th>\n",
       "      <th>Delivery_location_latitude</th>\n",
       "      <th>Delivery_location_longitude</th>\n",
       "      <th>Order_Date</th>\n",
       "      <th>Time_Orderd</th>\n",
       "      <th>Time_Order_picked</th>\n",
       "      <th>Weatherconditions</th>\n",
       "      <th>Road_traffic_density</th>\n",
       "      <th>Vehicle_condition</th>\n",
       "      <th>Type_of_order</th>\n",
       "      <th>Type_of_vehicle</th>\n",
       "      <th>multiple_deliveries</th>\n",
       "      <th>Festival</th>\n",
       "      <th>City</th>\n",
       "      <th>Time_taken(min)</th>\n",
       "    </tr>\n",
       "  </thead>\n",
       "  <tbody>\n",
       "    <tr>\n",
       "      <th>0</th>\n",
       "      <td>0x4607</td>\n",
       "      <td>INDORES13DEL02</td>\n",
       "      <td>37</td>\n",
       "      <td>4.9</td>\n",
       "      <td>22.745049</td>\n",
       "      <td>75.892471</td>\n",
       "      <td>22.765049</td>\n",
       "      <td>75.912471</td>\n",
       "      <td>19-03-2022</td>\n",
       "      <td>11:30:00</td>\n",
       "      <td>11:45:00</td>\n",
       "      <td>conditions Sunny</td>\n",
       "      <td>High</td>\n",
       "      <td>2</td>\n",
       "      <td>Snack</td>\n",
       "      <td>motorcycle</td>\n",
       "      <td>0</td>\n",
       "      <td>No</td>\n",
       "      <td>Urban</td>\n",
       "      <td>(min) 24</td>\n",
       "    </tr>\n",
       "    <tr>\n",
       "      <th>1</th>\n",
       "      <td>0xb379</td>\n",
       "      <td>BANGRES18DEL02</td>\n",
       "      <td>34</td>\n",
       "      <td>4.5</td>\n",
       "      <td>12.913041</td>\n",
       "      <td>77.683237</td>\n",
       "      <td>13.043041</td>\n",
       "      <td>77.813237</td>\n",
       "      <td>25-03-2022</td>\n",
       "      <td>19:45:00</td>\n",
       "      <td>19:50:00</td>\n",
       "      <td>conditions Stormy</td>\n",
       "      <td>Jam</td>\n",
       "      <td>2</td>\n",
       "      <td>Snack</td>\n",
       "      <td>scooter</td>\n",
       "      <td>1</td>\n",
       "      <td>No</td>\n",
       "      <td>Metropolitian</td>\n",
       "      <td>(min) 33</td>\n",
       "    </tr>\n",
       "    <tr>\n",
       "      <th>2</th>\n",
       "      <td>0x5d6d</td>\n",
       "      <td>BANGRES19DEL01</td>\n",
       "      <td>23</td>\n",
       "      <td>4.4</td>\n",
       "      <td>12.914264</td>\n",
       "      <td>77.678400</td>\n",
       "      <td>12.924264</td>\n",
       "      <td>77.688400</td>\n",
       "      <td>19-03-2022</td>\n",
       "      <td>08:30:00</td>\n",
       "      <td>08:45:00</td>\n",
       "      <td>conditions Sandstorms</td>\n",
       "      <td>Low</td>\n",
       "      <td>0</td>\n",
       "      <td>Drinks</td>\n",
       "      <td>motorcycle</td>\n",
       "      <td>1</td>\n",
       "      <td>No</td>\n",
       "      <td>Urban</td>\n",
       "      <td>(min) 26</td>\n",
       "    </tr>\n",
       "    <tr>\n",
       "      <th>3</th>\n",
       "      <td>0x7a6a</td>\n",
       "      <td>COIMBRES13DEL02</td>\n",
       "      <td>38</td>\n",
       "      <td>4.7</td>\n",
       "      <td>11.003669</td>\n",
       "      <td>76.976494</td>\n",
       "      <td>11.053669</td>\n",
       "      <td>77.026494</td>\n",
       "      <td>05-04-2022</td>\n",
       "      <td>18:00:00</td>\n",
       "      <td>18:10:00</td>\n",
       "      <td>conditions Sunny</td>\n",
       "      <td>Medium</td>\n",
       "      <td>0</td>\n",
       "      <td>Buffet</td>\n",
       "      <td>motorcycle</td>\n",
       "      <td>1</td>\n",
       "      <td>No</td>\n",
       "      <td>Metropolitian</td>\n",
       "      <td>(min) 21</td>\n",
       "    </tr>\n",
       "    <tr>\n",
       "      <th>4</th>\n",
       "      <td>0x70a2</td>\n",
       "      <td>CHENRES12DEL01</td>\n",
       "      <td>32</td>\n",
       "      <td>4.6</td>\n",
       "      <td>12.972793</td>\n",
       "      <td>80.249982</td>\n",
       "      <td>13.012793</td>\n",
       "      <td>80.289982</td>\n",
       "      <td>26-03-2022</td>\n",
       "      <td>13:30:00</td>\n",
       "      <td>13:45:00</td>\n",
       "      <td>conditions Cloudy</td>\n",
       "      <td>High</td>\n",
       "      <td>1</td>\n",
       "      <td>Snack</td>\n",
       "      <td>scooter</td>\n",
       "      <td>1</td>\n",
       "      <td>No</td>\n",
       "      <td>Metropolitian</td>\n",
       "      <td>(min) 30</td>\n",
       "    </tr>\n",
       "  </tbody>\n",
       "</table>\n",
       "</div>"
      ],
      "text/plain": [
       "        ID Delivery_person_ID Delivery_person_Age Delivery_person_Ratings  Restaurant_latitude  Restaurant_longitude  Delivery_location_latitude  Delivery_location_longitude  Order_Date Time_Orderd Time_Order_picked      Weatherconditions Road_traffic_density  Vehicle_condition Type_of_order Type_of_vehicle multiple_deliveries Festival            City Time_taken(min)\n",
       "0  0x4607     INDORES13DEL02                   37                     4.9            22.745049             75.892471                   22.765049                    75.912471  19-03-2022    11:30:00          11:45:00       conditions Sunny                High                   2        Snack      motorcycle                    0      No           Urban         (min) 24\n",
       "1  0xb379     BANGRES18DEL02                   34                     4.5            12.913041             77.683237                   13.043041                    77.813237  25-03-2022    19:45:00          19:50:00      conditions Stormy                 Jam                   2        Snack         scooter                    1      No   Metropolitian         (min) 33\n",
       "2  0x5d6d     BANGRES19DEL01                   23                     4.4            12.914264             77.678400                   12.924264                    77.688400  19-03-2022    08:30:00          08:45:00  conditions Sandstorms                 Low                   0       Drinks      motorcycle                    1      No           Urban         (min) 26\n",
       "3  0x7a6a    COIMBRES13DEL02                   38                     4.7            11.003669             76.976494                   11.053669                    77.026494  05-04-2022    18:00:00          18:10:00       conditions Sunny              Medium                   0       Buffet      motorcycle                    1      No   Metropolitian         (min) 21\n",
       "4  0x70a2     CHENRES12DEL01                   32                     4.6            12.972793             80.249982                   13.012793                    80.289982  26-03-2022    13:30:00          13:45:00      conditions Cloudy                High                   1        Snack         scooter                    1      No   Metropolitian         (min) 30"
      ]
     },
     "execution_count": 5,
     "metadata": {},
     "output_type": "execute_result"
    }
   ],
   "source": [
    "df.head()"
   ]
  },
  {
   "cell_type": "markdown",
   "id": "5c40580c",
   "metadata": {},
   "source": [
    "# 1.0 Data Description"
   ]
  },
  {
   "cell_type": "code",
   "execution_count": 6,
   "id": "81b4d145",
   "metadata": {
    "ExecuteTime": {
     "end_time": "2023-04-24T21:45:12.553812Z",
     "start_time": "2023-04-24T21:45:12.543728Z"
    }
   },
   "outputs": [],
   "source": [
    "df1 = df.copy()"
   ]
  },
  {
   "cell_type": "markdown",
   "id": "a16be2e3",
   "metadata": {},
   "source": [
    "# 1.1 Rename Columns"
   ]
  },
  {
   "cell_type": "code",
   "execution_count": 7,
   "id": "d5241a02",
   "metadata": {
    "ExecuteTime": {
     "end_time": "2023-04-24T21:45:13.369608Z",
     "start_time": "2023-04-24T21:45:13.359879Z"
    }
   },
   "outputs": [],
   "source": [
    "old_cols = ['ID', 'Delivery_person_ID', 'Delivery_person_Age',\n",
    "       'Delivery_person_Ratings', 'Restaurant_latitude',\n",
    "       'Restaurant_longitude', 'Delivery_location_latitude',\n",
    "       'Delivery_location_longitude', 'Order_Date', 'Time_Orderd',\n",
    "       'Time_Order_picked', 'Weatherconditions', 'Road_traffic_density',\n",
    "       'Vehicle_condition', 'Type_of_order', 'Type_of_vehicle',\n",
    "       'multiple_deliveries', 'Festival', 'City', 'Time_taken(min)']\n",
    "\n",
    "snake_case = lambda x: inflection.underscore(x)\n",
    "\n",
    "new_cols = list( map(snake_case, old_cols))\n",
    "df1.columns = new_cols"
   ]
  },
  {
   "cell_type": "markdown",
   "id": "09681395",
   "metadata": {},
   "source": [
    "## 1.2 Data Dimension"
   ]
  },
  {
   "cell_type": "code",
   "execution_count": 8,
   "id": "9c69a3a0",
   "metadata": {
    "ExecuteTime": {
     "end_time": "2023-04-24T21:45:14.331520Z",
     "start_time": "2023-04-24T21:45:14.325880Z"
    }
   },
   "outputs": [
    {
     "data": {
      "text/plain": [
       "(45593, 20)"
      ]
     },
     "execution_count": 8,
     "metadata": {},
     "output_type": "execute_result"
    }
   ],
   "source": [
    "df1.shape"
   ]
  },
  {
   "cell_type": "markdown",
   "id": "a1b6c5b2",
   "metadata": {
    "ExecuteTime": {
     "end_time": "2023-04-23T13:52:20.847456Z",
     "start_time": "2023-04-23T13:52:20.844833Z"
    }
   },
   "source": [
    "## 1.3 Data Types"
   ]
  },
  {
   "cell_type": "code",
   "execution_count": 9,
   "id": "e89137e6",
   "metadata": {
    "ExecuteTime": {
     "end_time": "2023-04-24T21:45:15.255758Z",
     "start_time": "2023-04-24T21:45:15.245581Z"
    }
   },
   "outputs": [
    {
     "data": {
      "text/plain": [
       "id                              object\n",
       "delivery_person_id              object\n",
       "delivery_person_age             object\n",
       "delivery_person_ratings         object\n",
       "restaurant_latitude            float64\n",
       "restaurant_longitude           float64\n",
       "delivery_location_latitude     float64\n",
       "delivery_location_longitude    float64\n",
       "order_date                      object\n",
       "time_orderd                     object\n",
       "time_order_picked               object\n",
       "weatherconditions               object\n",
       "road_traffic_density            object\n",
       "vehicle_condition                int64\n",
       "type_of_order                   object\n",
       "type_of_vehicle                 object\n",
       "multiple_deliveries             object\n",
       "festival                        object\n",
       "city                            object\n",
       "time_taken(min)                 object\n",
       "dtype: object"
      ]
     },
     "execution_count": 9,
     "metadata": {},
     "output_type": "execute_result"
    }
   ],
   "source": [
    "df1.dtypes"
   ]
  },
  {
   "cell_type": "markdown",
   "id": "6ebe739f",
   "metadata": {},
   "source": [
    "## 1.4 Check NA"
   ]
  },
  {
   "cell_type": "code",
   "execution_count": 10,
   "id": "22849c8f",
   "metadata": {
    "ExecuteTime": {
     "end_time": "2023-04-24T21:45:16.432873Z",
     "start_time": "2023-04-24T21:45:16.341892Z"
    }
   },
   "outputs": [
    {
     "data": {
      "text/plain": [
       "id                             0\n",
       "delivery_person_id             0\n",
       "delivery_person_age            0\n",
       "delivery_person_ratings        0\n",
       "restaurant_latitude            0\n",
       "restaurant_longitude           0\n",
       "delivery_location_latitude     0\n",
       "delivery_location_longitude    0\n",
       "order_date                     0\n",
       "time_orderd                    0\n",
       "time_order_picked              0\n",
       "weatherconditions              0\n",
       "road_traffic_density           0\n",
       "vehicle_condition              0\n",
       "type_of_order                  0\n",
       "type_of_vehicle                0\n",
       "multiple_deliveries            0\n",
       "festival                       0\n",
       "city                           0\n",
       "time_taken(min)                0\n",
       "dtype: int64"
      ]
     },
     "execution_count": 10,
     "metadata": {},
     "output_type": "execute_result"
    }
   ],
   "source": [
    "df1.isna().sum()"
   ]
  },
  {
   "cell_type": "markdown",
   "id": "25bcd471",
   "metadata": {},
   "source": [
    "## 1.5 Fillout NA"
   ]
  },
  {
   "cell_type": "markdown",
   "id": "a12c4658",
   "metadata": {},
   "source": [
    "- Não há valores nulos no dataset"
   ]
  },
  {
   "cell_type": "markdown",
   "id": "6e726917",
   "metadata": {},
   "source": [
    "## 1.6 Change Types"
   ]
  },
  {
   "cell_type": "code",
   "execution_count": 11,
   "id": "12e9ae6a",
   "metadata": {
    "ExecuteTime": {
     "end_time": "2023-04-24T21:45:18.406526Z",
     "start_time": "2023-04-24T21:45:18.325067Z"
    }
   },
   "outputs": [],
   "source": [
    "# Excluir as linhas com a idade dos entregadores vazia\n",
    "# ( Conceitos de seleção condicional )\n",
    "linhas_vazias = df1['delivery_person_age'] != 'NaN '\n",
    "df1 = df1.loc[linhas_vazias, :]\n",
    "\n",
    "# Conversao de texto/categoria/string para numeros inteiros\n",
    "df1['delivery_person_age'] = df1['delivery_person_age'].astype( int )\n",
    "\n",
    "# Conversao de texto/categoria/strings para numeros decimais\n",
    "df1['delivery_person_ratings'] = df1['delivery_person_ratings'].astype( float )\n",
    "\n",
    "# Conversao de texto para data\n",
    "df1['order_date'] = pd.to_datetime( df1['order_date'], format='%d-%m-%Y' )\n",
    "#\n",
    "linhas_vazias = df1['multiple_deliveries'] != 'NaN '\n",
    "df1 = df1.loc[linhas_vazias, :]\n",
    "df1['multiple_deliveries'] = df1['multiple_deliveries'].astype( int )"
   ]
  },
  {
   "cell_type": "markdown",
   "id": "28053239",
   "metadata": {},
   "source": [
    "### 1.6.1 Changing columns format"
   ]
  },
  {
   "cell_type": "code",
   "execution_count": 12,
   "id": "af9bc7ab",
   "metadata": {
    "ExecuteTime": {
     "end_time": "2023-04-24T21:45:19.397105Z",
     "start_time": "2023-04-24T21:45:19.361670Z"
    }
   },
   "outputs": [],
   "source": [
    "df1['time_taken(min)'] = df1['time_taken(min)'].apply(lambda x: x.split('(min) ')[1])\n",
    "df1['time_taken(min)'] = df1['time_taken(min)'].astype(int)"
   ]
  },
  {
   "cell_type": "markdown",
   "id": "ef053491",
   "metadata": {},
   "source": [
    "# 2.0 A visão: Empresa"
   ]
  },
  {
   "cell_type": "code",
   "execution_count": 13,
   "id": "2dcb0883",
   "metadata": {
    "ExecuteTime": {
     "end_time": "2023-04-24T21:45:20.353118Z",
     "start_time": "2023-04-24T21:45:20.343340Z"
    }
   },
   "outputs": [],
   "source": [
    "df2 = df1.copy()"
   ]
  },
  {
   "cell_type": "markdown",
   "id": "ab006397",
   "metadata": {},
   "source": [
    "## 2.1 Quantidade de pedidos por dia"
   ]
  },
  {
   "cell_type": "code",
   "execution_count": 14,
   "id": "30c0cb09",
   "metadata": {
    "ExecuteTime": {
     "end_time": "2023-04-24T21:45:21.510931Z",
     "start_time": "2023-04-24T21:45:21.198108Z"
    }
   },
   "outputs": [
    {
     "data": {
      "text/plain": [
       "Text(0.5, 1.0, 'Variação da quantidade de pedidos por dia')"
      ]
     },
     "execution_count": 14,
     "metadata": {},
     "output_type": "execute_result"
    },
    {
     "data": {
      "image/png": "[encoded data removed]",
      "text/plain": [
       "<Figure size 2500x1200 with 1 Axes>"
      ]
     },
     "metadata": {},
     "output_type": "display_data"
    }
   ],
   "source": [
    "aux1 = df2[['id', 'order_date']].groupby( 'order_date' ).count().reset_index()\n",
    "aux1.columns = ['order_date', 'qtd_entregas']\n",
    "line_graph = sns.lineplot(x='order_date', y='qtd_entregas', data=aux1);\n",
    "line_graph.set_title(\"Variação da quantidade de pedidos por dia\")"
   ]
  },
  {
   "cell_type": "markdown",
   "id": "5e41f183",
   "metadata": {},
   "source": [
    "## 2.2 Quantidade de pedidos por semana"
   ]
  },
  {
   "cell_type": "code",
   "execution_count": 15,
   "id": "c983ec4b",
   "metadata": {
    "ExecuteTime": {
     "end_time": "2023-04-24T21:45:22.527818Z",
     "start_time": "2023-04-24T21:45:22.094613Z"
    }
   },
   "outputs": [
    {
     "data": {
      "text/plain": [
       "Text(0.5, 1.0, 'Variação da quantidade de pedidos por semana')"
      ]
     },
     "execution_count": 15,
     "metadata": {},
     "output_type": "execute_result"
    },
    {
     "data": {
      "image/png": "[encoded data removed]",
      "text/plain": [
       "<Figure size 2500x1200 with 2 Axes>"
      ]
     },
     "metadata": {},
     "output_type": "display_data"
    }
   ],
   "source": [
    "df2['week_of_year'] = df2['order_date'].dt.strftime('%U') \n",
    "\n",
    "plt.subplot(1, 2, 1)\n",
    "aux1 = df2[['id', 'week_of_year']].groupby( 'week_of_year' ).count().reset_index()\n",
    "line_graph = sns.lineplot(x='week_of_year', y='id', data=aux1);\n",
    "line_graph.set_title(\"Variação da quantidade de pedidos por semana\")\n",
    "\n",
    "plt.subplot(1, 2, 2)\n",
    "aux1 = df2[['id', 'week_of_year']].groupby( 'week_of_year' ).count().reset_index()\n",
    "bar_graph = sns.barplot(x='week_of_year', y='id', data=aux1);\n",
    "bar_graph.set_title(\"Variação da quantidade de pedidos por semana\")"
   ]
  },
  {
   "cell_type": "markdown",
   "id": "969e4570",
   "metadata": {},
   "source": [
    "## 2.3 Distribuição dos pedidos por tipo de tráfego - Porcentagem"
   ]
  },
  {
   "cell_type": "code",
   "execution_count": 16,
   "id": "f3ab9789",
   "metadata": {
    "ExecuteTime": {
     "end_time": "2023-04-24T21:45:23.447117Z",
     "start_time": "2023-04-24T21:45:23.209431Z"
    }
   },
   "outputs": [],
   "source": [
    "aux1 = df2.loc[:, ['id', 'road_traffic_density']].groupby( 'road_traffic_density' ).count().reset_index()\n",
    "aux1['traffic_perc'] = ( aux1['id'] / aux1['id'].sum() ) * 100\n",
    "\n",
    "px.pie( aux1, values='traffic_perc', names='road_traffic_density' )"
   ]
  },
  {
   "cell_type": "markdown",
   "id": "85eca77d",
   "metadata": {},
   "source": [
    "## 2.4 Comparação do volume de pedidos por cidade e tipo de tráfego"
   ]
  },
  {
   "cell_type": "code",
   "execution_count": 17,
   "id": "3139f36d",
   "metadata": {
    "ExecuteTime": {
     "end_time": "2023-04-24T21:45:25.095325Z",
     "start_time": "2023-04-24T21:45:25.034238Z"
    }
   },
   "outputs": [
    {
     "data": {
      "application/vnd.plotly.v1+json": {
       "config": {
        "plotlyServerURL": "https://plot.ly"
       },
       "data": [
        {
         "hovertemplate": "city=%{x}<br>road_traffic_density=%{y}<br>id=%{marker.size}<extra></extra>",
         "legendgroup": "Metropolitian ",
         "marker": {
          "color": "#636efa",
          "size": [
           3215,
           10581,
           10254,
           7917,
           64
          ],
          "sizemode": "area",
          "sizeref": 26.4525,
          "symbol": "circle"
         },
         "mode": "markers",
         "name": "Metropolitian ",
         "orientation": "v",
         "showlegend": true,
         "type": "scatter",
         "x": [
          "Metropolitian ",
          "Metropolitian ",
          "Metropolitian ",
          "Metropolitian ",
          "Metropolitian "
         ],
         "xaxis": "x",
         "y": [
          "High ",
          "Jam ",
          "Low ",
          "Medium ",
          "NaN "
         ],
         "yaxis": "y"
        },
        {
         "hovertemplate": "city=%{x}<br>road_traffic_density=%{y}<br>id=%{marker.size}<extra></extra>",
         "legendgroup": "NaN ",
         "marker": {
          "color": "#EF553B",
          "size": [
           93,
           273,
           493,
           244,
           2
          ],
          "sizemode": "area",
          "sizeref": 26.4525,
          "symbol": "circle"
         },
         "mode": "markers",
         "name": "NaN ",
         "orientation": "v",
         "showlegend": true,
         "type": "scatter",
         "x": [
          "NaN ",
          "NaN ",
          "NaN ",
          "NaN ",
          "NaN "
         ],
         "xaxis": "x",
         "y": [
          "High ",
          "Jam ",
          "Low ",
          "Medium ",
          "NaN "
         ],
         "yaxis": "y"
        },
        {
         "hovertemplate": "city=%{x}<br>road_traffic_density=%{y}<br>id=%{marker.size}<extra></extra>",
         "legendgroup": "Semi-Urban ",
         "marker": {
          "color": "#00cc96",
          "size": [
           16,
           126,
           10
          ],
          "sizemode": "area",
          "sizeref": 26.4525,
          "symbol": "circle"
         },
         "mode": "markers",
         "name": "Semi-Urban ",
         "orientation": "v",
         "showlegend": true,
         "type": "scatter",
         "x": [
          "Semi-Urban ",
          "Semi-Urban ",
          "Semi-Urban "
         ],
         "xaxis": "x",
         "y": [
          "High ",
          "Jam ",
          "Medium "
         ],
         "yaxis": "y"
        },
        {
         "hovertemplate": "city=%{x}<br>road_traffic_density=%{y}<br>id=%{marker.size}<extra></extra>",
         "legendgroup": "Urban ",
         "marker": {
          "color": "#ab63fa",
          "size": [
           888,
           2500,
           3858,
           2246,
           25
          ],
          "sizemode": "area",
          "sizeref": 26.4525,
          "symbol": "circle"
         },
         "mode": "markers",
         "name": "Urban ",
         "orientation": "v",
         "showlegend": true,
         "type": "scatter",
         "x": [
          "Urban ",
          "Urban ",
          "Urban ",
          "Urban ",
          "Urban "
         ],
         "xaxis": "x",
         "y": [
          "High ",
          "Jam ",
          "Low ",
          "Medium ",
          "NaN "
         ],
         "yaxis": "y"
        }
       ],
       "layout": {
        "legend": {
         "itemsizing": "constant",
         "title": {
          "text": "city"
         },
         "tracegroupgap": 0
        },
        "margin": {
         "t": 60
        },
        "template": {
         "data": {
          "bar": [
           {
            "error_x": {
             "color": "#2a3f5f"
            },
            "error_y": {
             "color": "#2a3f5f"
            },
            "marker": {
             "line": {
              "color": "#E5ECF6",
              "width": 0.5
             },
             "pattern": {
              "fillmode": "overlay",
              "size": 10,
              "solidity": 0.2
             }
            },
            "type": "bar"
           }
          ],
          "barpolar": [
           {
            "marker": {
             "line": {
              "color": "#E5ECF6",
              "width": 0.5
             },
             "pattern": {
              "fillmode": "overlay",
              "size": 10,
              "solidity": 0.2
             }
            },
            "type": "barpolar"
           }
          ],
          "carpet": [
           {
            "aaxis": {
             "endlinecolor": "#2a3f5f",
             "gridcolor": "white",
             "linecolor": "white",
             "minorgridcolor": "white",
             "startlinecolor": "#2a3f5f"
            },
            "baxis": {
             "endlinecolor": "#2a3f5f",
             "gridcolor": "white",
             "linecolor": "white",
             "minorgridcolor": "white",
             "startlinecolor": "#2a3f5f"
            },
            "type": "carpet"
           }
          ],
          "choropleth": [
           {
            "colorbar": {
             "outlinewidth": 0,
             "ticks": ""
            },
            "type": "choropleth"
           }
          ],
          "contour": [
           {
            "colorbar": {
             "outlinewidth": 0,
             "ticks": ""
            },
            "colorscale": [
             [
              0,
              "#0d0887"
             ],
             [
              0.1111111111111111,
              "#46039f"
             ],
             [
              0.2222222222222222,
              "#7201a8"
             ],
             [
              0.3333333333333333,
              "#9c179e"
             ],
             [
              0.4444444444444444,
              "#bd3786"
             ],
             [
              0.5555555555555556,
              "#d8576b"
             ],
             [
              0.6666666666666666,
              "#ed7953"
             ],
             [
              0.7777777777777778,
              "#fb9f3a"
             ],
             [
              0.8888888888888888,
              "#fdca26"
             ],
             [
              1,
              "#f0f921"
             ]
            ],
            "type": "contour"
           }
          ],
          "contourcarpet": [
           {
            "colorbar": {
             "outlinewidth": 0,
             "ticks": ""
            },
            "type": "contourcarpet"
           }
          ],
          "heatmap": [
           {
            "colorbar": {
             "outlinewidth": 0,
             "ticks": ""
            },
            "colorscale": [
             [
              0,
              "#0d0887"
             ],
             [
              0.1111111111111111,
              "#46039f"
             ],
             [
              0.2222222222222222,
              "#7201a8"
             ],
             [
              0.3333333333333333,
              "#9c179e"
             ],
             [
              0.4444444444444444,
              "#bd3786"
             ],
             [
              0.5555555555555556,
              "#d8576b"
             ],
             [
              0.6666666666666666,
              "#ed7953"
             ],
             [
              0.7777777777777778,
              "#fb9f3a"
             ],
             [
              0.8888888888888888,
              "#fdca26"
             ],
             [
              1,
              "#f0f921"
             ]
            ],
            "type": "heatmap"
           }
          ],
          "heatmapgl": [
           {
            "colorbar": {
             "outlinewidth": 0,
             "ticks": ""
            },
            "colorscale": [
             [
              0,
              "#0d0887"
             ],
             [
              0.1111111111111111,
              "#46039f"
             ],
             [
              0.2222222222222222,
              "#7201a8"
             ],
             [
              0.3333333333333333,
              "#9c179e"
             ],
             [
              0.4444444444444444,
              "#bd3786"
             ],
             [
              0.5555555555555556,
              "#d8576b"
             ],
             [
              0.6666666666666666,
              "#ed7953"
             ],
             [
              0.7777777777777778,
              "#fb9f3a"
             ],
             [
              0.8888888888888888,
              "#fdca26"
             ],
             [
              1,
              "#f0f921"
             ]
            ],
            "type": "heatmapgl"
           }
          ],
          "histogram": [
           {
            "marker": {
             "pattern": {
              "fillmode": "overlay",
              "size": 10,
              "solidity": 0.2
             }
            },
            "type": "histogram"
           }
          ],
          "histogram2d": [
           {
            "colorbar": {
             "outlinewidth": 0,
             "ticks": ""
            },
            "colorscale": [
             [
              0,
              "#0d0887"
             ],
             [
              0.1111111111111111,
              "#46039f"
             ],
             [
              0.2222222222222222,
              "#7201a8"
             ],
             [
              0.3333333333333333,
              "#9c179e"
             ],
             [
              0.4444444444444444,
              "#bd3786"
             ],
             [
              0.5555555555555556,
              "#d8576b"
             ],
             [
              0.6666666666666666,
              "#ed7953"
             ],
             [
              0.7777777777777778,
              "#fb9f3a"
             ],
             [
              0.8888888888888888,
              "#fdca26"
             ],
             [
              1,
              "#f0f921"
             ]
            ],
            "type": "histogram2d"
           }
          ],
          "histogram2dcontour": [
           {
            "colorbar": {
             "outlinewidth": 0,
             "ticks": ""
            },
            "colorscale": [
             [
              0,
              "#0d0887"
             ],
             [
              0.1111111111111111,
              "#46039f"
             ],
             [
              0.2222222222222222,
              "#7201a8"
             ],
             [
              0.3333333333333333,
              "#9c179e"
             ],
             [
              0.4444444444444444,
              "#bd3786"
             ],
             [
              0.5555555555555556,
              "#d8576b"
             ],
             [
              0.6666666666666666,
              "#ed7953"
             ],
             [
              0.7777777777777778,
              "#fb9f3a"
             ],
             [
              0.8888888888888888,
              "#fdca26"
             ],
             [
              1,
              "#f0f921"
             ]
            ],
            "type": "histogram2dcontour"
           }
          ],
          "mesh3d": [
           {
            "colorbar": {
             "outlinewidth": 0,
             "ticks": ""
            },
            "type": "mesh3d"
           }
          ],
          "parcoords": [
           {
            "line": {
             "colorbar": {
              "outlinewidth": 0,
              "ticks": ""
             }
            },
            "type": "parcoords"
           }
          ],
          "pie": [
           {
            "automargin": true,
            "type": "pie"
           }
          ],
          "scatter": [
           {
            "fillpattern": {
             "fillmode": "overlay",
             "size": 10,
             "solidity": 0.2
            },
            "type": "scatter"
           }
          ],
          "scatter3d": [
           {
            "line": {
             "colorbar": {
              "outlinewidth": 0,
              "ticks": ""
             }
            },
            "marker": {
             "colorbar": {
              "outlinewidth": 0,
              "ticks": ""
             }
            },
            "type": "scatter3d"
           }
          ],
          "scattercarpet": [
           {
            "marker": {
             "colorbar": {
              "outlinewidth": 0,
              "ticks": ""
             }
            },
            "type": "scattercarpet"
           }
          ],
          "scattergeo": [
           {
            "marker": {
             "colorbar": {
              "outlinewidth": 0,
              "ticks": ""
             }
            },
            "type": "scattergeo"
           }
          ],
          "scattergl": [
           {
            "marker": {
             "colorbar": {
              "outlinewidth": 0,
              "ticks": ""
             }
            },
            "type": "scattergl"
           }
          ],
          "scattermapbox": [
           {
            "marker": {
             "colorbar": {
              "outlinewidth": 0,
              "ticks": ""
             }
            },
            "type": "scattermapbox"
           }
          ],
          "scatterpolar": [
           {
            "marker": {
             "colorbar": {
              "outlinewidth": 0,
              "ticks": ""
             }
            },
            "type": "scatterpolar"
           }
          ],
          "scatterpolargl": [
           {
            "marker": {
             "colorbar": {
              "outlinewidth": 0,
              "ticks": ""
             }
            },
            "type": "scatterpolargl"
           }
          ],
          "scatterternary": [
           {
            "marker": {
             "colorbar": {
              "outlinewidth": 0,
              "ticks": ""
             }
            },
            "type": "scatterternary"
           }
          ],
          "surface": [
           {
            "colorbar": {
             "outlinewidth": 0,
             "ticks": ""
            },
            "colorscale": [
             [
              0,
              "#0d0887"
             ],
             [
              0.1111111111111111,
              "#46039f"
             ],
             [
              0.2222222222222222,
              "#7201a8"
             ],
             [
              0.3333333333333333,
              "#9c179e"
             ],
             [
              0.4444444444444444,
              "#bd3786"
             ],
             [
              0.5555555555555556,
              "#d8576b"
             ],
             [
              0.6666666666666666,
              "#ed7953"
             ],
             [
              0.7777777777777778,
              "#fb9f3a"
             ],
             [
              0.8888888888888888,
              "#fdca26"
             ],
             [
              1,
              "#f0f921"
             ]
            ],
            "type": "surface"
           }
          ],
          "table": [
           {
            "cells": {
             "fill": {
              "color": "#EBF0F8"
             },
             "line": {
              "color": "white"
             }
            },
            "header": {
             "fill": {
              "color": "#C8D4E3"
             },
             "line": {
              "color": "white"
             }
            },
            "type": "table"
           }
          ]
         },
         "layout": {
          "annotationdefaults": {
           "arrowcolor": "#2a3f5f",
           "arrowhead": 0,
           "arrowwidth": 1
          },
          "autotypenumbers": "strict",
          "coloraxis": {
           "colorbar": {
            "outlinewidth": 0,
            "ticks": ""
           }
          },
          "colorscale": {
           "diverging": [
            [
             0,
             "#8e0152"
            ],
            [
             0.1,
             "#c51b7d"
            ],
            [
             0.2,
             "#de77ae"
            ],
            [
             0.3,
             "#f1b6da"
            ],
            [
             0.4,
             "#fde0ef"
            ],
            [
             0.5,
             "#f7f7f7"
            ],
            [
             0.6,
             "#e6f5d0"
            ],
            [
             0.7,
             "#b8e186"
            ],
            [
             0.8,
             "#7fbc41"
            ],
            [
             0.9,
             "#4d9221"
            ],
            [
             1,
             "#276419"
            ]
           ],
           "sequential": [
            [
             0,
             "#0d0887"
            ],
            [
             0.1111111111111111,
             "#46039f"
            ],
            [
             0.2222222222222222,
             "#7201a8"
            ],
            [
             0.3333333333333333,
             "#9c179e"
            ],
            [
             0.4444444444444444,
             "#bd3786"
            ],
            [
             0.5555555555555556,
             "#d8576b"
            ],
            [
             0.6666666666666666,
             "#ed7953"
            ],
            [
             0.7777777777777778,
             "#fb9f3a"
            ],
            [
             0.8888888888888888,
             "#fdca26"
            ],
            [
             1,
             "#f0f921"
            ]
           ],
           "sequentialminus": [
            [
             0,
             "#0d0887"
            ],
            [
             0.1111111111111111,
             "#46039f"
            ],
            [
             0.2222222222222222,
             "#7201a8"
            ],
            [
             0.3333333333333333,
             "#9c179e"
            ],
            [
             0.4444444444444444,
             "#bd3786"
            ],
            [
             0.5555555555555556,
             "#d8576b"
            ],
            [
             0.6666666666666666,
             "#ed7953"
            ],
            [
             0.7777777777777778,
             "#fb9f3a"
            ],
            [
             0.8888888888888888,
             "#fdca26"
            ],
            [
             1,
             "#f0f921"
            ]
           ]
          },
          "colorway": [
           "#636efa",
           "#EF553B",
           "#00cc96",
           "#ab63fa",
           "#FFA15A",
           "#19d3f3",
           "#FF6692",
           "#B6E880",
           "#FF97FF",
           "#FECB52"
          ],
          "font": {
           "color": "#2a3f5f"
          },
          "geo": {
           "bgcolor": "white",
           "lakecolor": "white",
           "landcolor": "#E5ECF6",
           "showlakes": true,
           "showland": true,
           "subunitcolor": "white"
          },
          "hoverlabel": {
           "align": "left"
          },
          "hovermode": "closest",
          "mapbox": {
           "style": "light"
          },
          "paper_bgcolor": "white",
          "plot_bgcolor": "#E5ECF6",
          "polar": {
           "angularaxis": {
            "gridcolor": "white",
            "linecolor": "white",
            "ticks": ""
           },
           "bgcolor": "#E5ECF6",
           "radialaxis": {
            "gridcolor": "white",
            "linecolor": "white",
            "ticks": ""
           }
          },
          "scene": {
           "xaxis": {
            "backgroundcolor": "#E5ECF6",
            "gridcolor": "white",
            "gridwidth": 2,
            "linecolor": "white",
            "showbackground": true,
            "ticks": "",
            "zerolinecolor": "white"
           },
           "yaxis": {
            "backgroundcolor": "#E5ECF6",
            "gridcolor": "white",
            "gridwidth": 2,
            "linecolor": "white",
            "showbackground": true,
            "ticks": "",
            "zerolinecolor": "white"
           },
           "zaxis": {
            "backgroundcolor": "#E5ECF6",
            "gridcolor": "white",
            "gridwidth": 2,
            "linecolor": "white",
            "showbackground": true,
            "ticks": "",
            "zerolinecolor": "white"
           }
          },
          "shapedefaults": {
           "line": {
            "color": "#2a3f5f"
           }
          },
          "ternary": {
           "aaxis": {
            "gridcolor": "white",
            "linecolor": "white",
            "ticks": ""
           },
           "baxis": {
            "gridcolor": "white",
            "linecolor": "white",
            "ticks": ""
           },
           "bgcolor": "#E5ECF6",
           "caxis": {
            "gridcolor": "white",
            "linecolor": "white",
            "ticks": ""
           }
          },
          "title": {
           "x": 0.05
          },
          "xaxis": {
           "automargin": true,
           "gridcolor": "white",
           "linecolor": "white",
           "ticks": "",
           "title": {
            "standoff": 15
           },
           "zerolinecolor": "white",
           "zerolinewidth": 2
          },
          "yaxis": {
           "automargin": true,
           "gridcolor": "white",
           "linecolor": "white",
           "ticks": "",
           "title": {
            "standoff": 15
           },
           "zerolinecolor": "white",
           "zerolinewidth": 2
          }
         }
        },
        "xaxis": {
         "anchor": "y",
         "categoryarray": [
          "Metropolitian ",
          "NaN ",
          "Semi-Urban ",
          "Urban "
         ],
         "categoryorder": "array",
         "domain": [
          0,
          1
         ],
         "title": {
          "text": "city"
         }
        },
        "yaxis": {
         "anchor": "x",
         "domain": [
          0,
          1
         ],
         "title": {
          "text": "road_traffic_density"
         }
        }
       }
      },
      "text/html": [
       "<div>                            <div id=\"cba954db-9ede-471b-a4d9-2f115a16c4e6\" class=\"plotly-graph-div\" style=\"height:525px; width:100%;\"></div>            <script type=\"text/javascript\">                require([\"plotly\"], function(Plotly) {                    window.PLOTLYENV=window.PLOTLYENV || {};                                    if (document.getElementById(\"cba954db-9ede-471b-a4d9-2f115a16c4e6\")) {                    Plotly.newPlot(                        \"cba954db-9ede-471b-a4d9-2f115a16c4e6\",                        [{\"hovertemplate\":\"city=%{x}<br>road_traffic_density=%{y}<br>id=%{marker.size}<extra></extra>\",\"legendgroup\":\"Metropolitian \",\"marker\":{\"color\":\"#636efa\",\"size\":[3215,10581,10254,7917,64],\"sizemode\":\"area\",\"sizeref\":26.4525,\"symbol\":\"circle\"},\"mode\":\"markers\",\"name\":\"Metropolitian \",\"orientation\":\"v\",\"showlegend\":true,\"x\":[\"Metropolitian \",\"Metropolitian \",\"Metropolitian \",\"Metropolitian \",\"Metropolitian \"],\"xaxis\":\"x\",\"y\":[\"High \",\"Jam \",\"Low \",\"Medium \",\"NaN \"],\"yaxis\":\"y\",\"type\":\"scatter\"},{\"hovertemplate\":\"city=%{x}<br>road_traffic_density=%{y}<br>id=%{marker.size}<extra></extra>\",\"legendgroup\":\"NaN \",\"marker\":{\"color\":\"#EF553B\",\"size\":[93,273,493,244,2],\"sizemode\":\"area\",\"sizeref\":26.4525,\"symbol\":\"circle\"},\"mode\":\"markers\",\"name\":\"NaN \",\"orientation\":\"v\",\"showlegend\":true,\"x\":[\"NaN \",\"NaN \",\"NaN \",\"NaN \",\"NaN \"],\"xaxis\":\"x\",\"y\":[\"High \",\"Jam \",\"Low \",\"Medium \",\"NaN \"],\"yaxis\":\"y\",\"type\":\"scatter\"},{\"hovertemplate\":\"city=%{x}<br>road_traffic_density=%{y}<br>id=%{marker.size}<extra></extra>\",\"legendgroup\":\"Semi-Urban \",\"marker\":{\"color\":\"#00cc96\",\"size\":[16,126,10],\"sizemode\":\"area\",\"sizeref\":26.4525,\"symbol\":\"circle\"},\"mode\":\"markers\",\"name\":\"Semi-Urban \",\"orientation\":\"v\",\"showlegend\":true,\"x\":[\"Semi-Urban \",\"Semi-Urban \",\"Semi-Urban \"],\"xaxis\":\"x\",\"y\":[\"High \",\"Jam \",\"Medium \"],\"yaxis\":\"y\",\"type\":\"scatter\"},{\"hovertemplate\":\"city=%{x}<br>road_traffic_density=%{y}<br>id=%{marker.size}<extra></extra>\",\"legendgroup\":\"Urban \",\"marker\":{\"color\":\"#ab63fa\",\"size\":[888,2500,3858,2246,25],\"sizemode\":\"area\",\"sizeref\":26.4525,\"symbol\":\"circle\"},\"mode\":\"markers\",\"name\":\"Urban \",\"orientation\":\"v\",\"showlegend\":true,\"x\":[\"Urban \",\"Urban \",\"Urban \",\"Urban \",\"Urban \"],\"xaxis\":\"x\",\"y\":[\"High \",\"Jam \",\"Low \",\"Medium \",\"NaN \"],\"yaxis\":\"y\",\"type\":\"scatter\"}],                        {\"template\":{\"data\":{\"histogram2dcontour\":[{\"type\":\"histogram2dcontour\",\"colorbar\":{\"outlinewidth\":0,\"ticks\":\"\"},\"colorscale\":[[0.0,\"#0d0887\"],[0.1111111111111111,\"#46039f\"],[0.2222222222222222,\"#7201a8\"],[0.3333333333333333,\"#9c179e\"],[0.4444444444444444,\"#bd3786\"],[0.5555555555555556,\"#d8576b\"],[0.6666666666666666,\"#ed7953\"],[0.7777777777777778,\"#fb9f3a\"],[0.8888888888888888,\"#fdca26\"],[1.0,\"#f0f921\"]]}],\"choropleth\":[{\"type\":\"choropleth\",\"colorbar\":{\"outlinewidth\":0,\"ticks\":\"\"}}],\"histogram2d\":[{\"type\":\"histogram2d\",\"colorbar\":{\"outlinewidth\":0,\"ticks\":\"\"},\"colorscale\":[[0.0,\"#0d0887\"],[0.1111111111111111,\"#46039f\"],[0.2222222222222222,\"#7201a8\"],[0.3333333333333333,\"#9c179e\"],[0.4444444444444444,\"#bd3786\"],[0.5555555555555556,\"#d8576b\"],[0.6666666666666666,\"#ed7953\"],[0.7777777777777778,\"#fb9f3a\"],[0.8888888888888888,\"#fdca26\"],[1.0,\"#f0f921\"]]}],\"heatmap\":[{\"type\":\"heatmap\",\"colorbar\":{\"outlinewidth\":0,\"ticks\":\"\"},\"colorscale\":[[0.0,\"#0d0887\"],[0.1111111111111111,\"#46039f\"],[0.2222222222222222,\"#7201a8\"],[0.3333333333333333,\"#9c179e\"],[0.4444444444444444,\"#bd3786\"],[0.5555555555555556,\"#d8576b\"],[0.6666666666666666,\"#ed7953\"],[0.7777777777777778,\"#fb9f3a\"],[0.8888888888888888,\"#fdca26\"],[1.0,\"#f0f921\"]]}],\"heatmapgl\":[{\"type\":\"heatmapgl\",\"colorbar\":{\"outlinewidth\":0,\"ticks\":\"\"},\"colorscale\":[[0.0,\"#0d0887\"],[0.1111111111111111,\"#46039f\"],[0.2222222222222222,\"#7201a8\"],[0.3333333333333333,\"#9c179e\"],[0.4444444444444444,\"#bd3786\"],[0.5555555555555556,\"#d8576b\"],[0.6666666666666666,\"#ed7953\"],[0.7777777777777778,\"#fb9f3a\"],[0.8888888888888888,\"#fdca26\"],[1.0,\"#f0f921\"]]}],\"contourcarpet\":[{\"type\":\"contourcarpet\",\"colorbar\":{\"outlinewidth\":0,\"ticks\":\"\"}}],\"contour\":[{\"type\":\"contour\",\"colorbar\":{\"outlinewidth\":0,\"ticks\":\"\"},\"colorscale\":[[0.0,\"#0d0887\"],[0.1111111111111111,\"#46039f\"],[0.2222222222222222,\"#7201a8\"],[0.3333333333333333,\"#9c179e\"],[0.4444444444444444,\"#bd3786\"],[0.5555555555555556,\"#d8576b\"],[0.6666666666666666,\"#ed7953\"],[0.7777777777777778,\"#fb9f3a\"],[0.8888888888888888,\"#fdca26\"],[1.0,\"#f0f921\"]]}],\"surface\":[{\"type\":\"surface\",\"colorbar\":{\"outlinewidth\":0,\"ticks\":\"\"},\"colorscale\":[[0.0,\"#0d0887\"],[0.1111111111111111,\"#46039f\"],[0.2222222222222222,\"#7201a8\"],[0.3333333333333333,\"#9c179e\"],[0.4444444444444444,\"#bd3786\"],[0.5555555555555556,\"#d8576b\"],[0.6666666666666666,\"#ed7953\"],[0.7777777777777778,\"#fb9f3a\"],[0.8888888888888888,\"#fdca26\"],[1.0,\"#f0f921\"]]}],\"mesh3d\":[{\"type\":\"mesh3d\",\"colorbar\":{\"outlinewidth\":0,\"ticks\":\"\"}}],\"scatter\":[{\"fillpattern\":{\"fillmode\":\"overlay\",\"size\":10,\"solidity\":0.2},\"type\":\"scatter\"}],\"parcoords\":[{\"type\":\"parcoords\",\"line\":{\"colorbar\":{\"outlinewidth\":0,\"ticks\":\"\"}}}],\"scatterpolargl\":[{\"type\":\"scatterpolargl\",\"marker\":{\"colorbar\":{\"outlinewidth\":0,\"ticks\":\"\"}}}],\"bar\":[{\"error_x\":{\"color\":\"#2a3f5f\"},\"error_y\":{\"color\":\"#2a3f5f\"},\"marker\":{\"line\":{\"color\":\"#E5ECF6\",\"width\":0.5},\"pattern\":{\"fillmode\":\"overlay\",\"size\":10,\"solidity\":0.2}},\"type\":\"bar\"}],\"scattergeo\":[{\"type\":\"scattergeo\",\"marker\":{\"colorbar\":{\"outlinewidth\":0,\"ticks\":\"\"}}}],\"scatterpolar\":[{\"type\":\"scatterpolar\",\"marker\":{\"colorbar\":{\"outlinewidth\":0,\"ticks\":\"\"}}}],\"histogram\":[{\"marker\":{\"pattern\":{\"fillmode\":\"overlay\",\"size\":10,\"solidity\":0.2}},\"type\":\"histogram\"}],\"scattergl\":[{\"type\":\"scattergl\",\"marker\":{\"colorbar\":{\"outlinewidth\":0,\"ticks\":\"\"}}}],\"scatter3d\":[{\"type\":\"scatter3d\",\"line\":{\"colorbar\":{\"outlinewidth\":0,\"ticks\":\"\"}},\"marker\":{\"colorbar\":{\"outlinewidth\":0,\"ticks\":\"\"}}}],\"scattermapbox\":[{\"type\":\"scattermapbox\",\"marker\":{\"colorbar\":{\"outlinewidth\":0,\"ticks\":\"\"}}}],\"scatterternary\":[{\"type\":\"scatterternary\",\"marker\":{\"colorbar\":{\"outlinewidth\":0,\"ticks\":\"\"}}}],\"scattercarpet\":[{\"type\":\"scattercarpet\",\"marker\":{\"colorbar\":{\"outlinewidth\":0,\"ticks\":\"\"}}}],\"carpet\":[{\"aaxis\":{\"endlinecolor\":\"#2a3f5f\",\"gridcolor\":\"white\",\"linecolor\":\"white\",\"minorgridcolor\":\"white\",\"startlinecolor\":\"#2a3f5f\"},\"baxis\":{\"endlinecolor\":\"#2a3f5f\",\"gridcolor\":\"white\",\"linecolor\":\"white\",\"minorgridcolor\":\"white\",\"startlinecolor\":\"#2a3f5f\"},\"type\":\"carpet\"}],\"table\":[{\"cells\":{\"fill\":{\"color\":\"#EBF0F8\"},\"line\":{\"color\":\"white\"}},\"header\":{\"fill\":{\"color\":\"#C8D4E3\"},\"line\":{\"color\":\"white\"}},\"type\":\"table\"}],\"barpolar\":[{\"marker\":{\"line\":{\"color\":\"#E5ECF6\",\"width\":0.5},\"pattern\":{\"fillmode\":\"overlay\",\"size\":10,\"solidity\":0.2}},\"type\":\"barpolar\"}],\"pie\":[{\"automargin\":true,\"type\":\"pie\"}]},\"layout\":{\"autotypenumbers\":\"strict\",\"colorway\":[\"#636efa\",\"#EF553B\",\"#00cc96\",\"#ab63fa\",\"#FFA15A\",\"#19d3f3\",\"#FF6692\",\"#B6E880\",\"#FF97FF\",\"#FECB52\"],\"font\":{\"color\":\"#2a3f5f\"},\"hovermode\":\"closest\",\"hoverlabel\":{\"align\":\"left\"},\"paper_bgcolor\":\"white\",\"plot_bgcolor\":\"#E5ECF6\",\"polar\":{\"bgcolor\":\"#E5ECF6\",\"angularaxis\":{\"gridcolor\":\"white\",\"linecolor\":\"white\",\"ticks\":\"\"},\"radialaxis\":{\"gridcolor\":\"white\",\"linecolor\":\"white\",\"ticks\":\"\"}},\"ternary\":{\"bgcolor\":\"#E5ECF6\",\"aaxis\":{\"gridcolor\":\"white\",\"linecolor\":\"white\",\"ticks\":\"\"},\"baxis\":{\"gridcolor\":\"white\",\"linecolor\":\"white\",\"ticks\":\"\"},\"caxis\":{\"gridcolor\":\"white\",\"linecolor\":\"white\",\"ticks\":\"\"}},\"coloraxis\":{\"colorbar\":{\"outlinewidth\":0,\"ticks\":\"\"}},\"colorscale\":{\"sequential\":[[0.0,\"#0d0887\"],[0.1111111111111111,\"#46039f\"],[0.2222222222222222,\"#7201a8\"],[0.3333333333333333,\"#9c179e\"],[0.4444444444444444,\"#bd3786\"],[0.5555555555555556,\"#d8576b\"],[0.6666666666666666,\"#ed7953\"],[0.7777777777777778,\"#fb9f3a\"],[0.8888888888888888,\"#fdca26\"],[1.0,\"#f0f921\"]],\"sequentialminus\":[[0.0,\"#0d0887\"],[0.1111111111111111,\"#46039f\"],[0.2222222222222222,\"#7201a8\"],[0.3333333333333333,\"#9c179e\"],[0.4444444444444444,\"#bd3786\"],[0.5555555555555556,\"#d8576b\"],[0.6666666666666666,\"#ed7953\"],[0.7777777777777778,\"#fb9f3a\"],[0.8888888888888888,\"#fdca26\"],[1.0,\"#f0f921\"]],\"diverging\":[[0,\"#8e0152\"],[0.1,\"#c51b7d\"],[0.2,\"#de77ae\"],[0.3,\"#f1b6da\"],[0.4,\"#fde0ef\"],[0.5,\"#f7f7f7\"],[0.6,\"#e6f5d0\"],[0.7,\"#b8e186\"],[0.8,\"#7fbc41\"],[0.9,\"#4d9221\"],[1,\"#276419\"]]},\"xaxis\":{\"gridcolor\":\"white\",\"linecolor\":\"white\",\"ticks\":\"\",\"title\":{\"standoff\":15},\"zerolinecolor\":\"white\",\"automargin\":true,\"zerolinewidth\":2},\"yaxis\":{\"gridcolor\":\"white\",\"linecolor\":\"white\",\"ticks\":\"\",\"title\":{\"standoff\":15},\"zerolinecolor\":\"white\",\"automargin\":true,\"zerolinewidth\":2},\"scene\":{\"xaxis\":{\"backgroundcolor\":\"#E5ECF6\",\"gridcolor\":\"white\",\"linecolor\":\"white\",\"showbackground\":true,\"ticks\":\"\",\"zerolinecolor\":\"white\",\"gridwidth\":2},\"yaxis\":{\"backgroundcolor\":\"#E5ECF6\",\"gridcolor\":\"white\",\"linecolor\":\"white\",\"showbackground\":true,\"ticks\":\"\",\"zerolinecolor\":\"white\",\"gridwidth\":2},\"zaxis\":{\"backgroundcolor\":\"#E5ECF6\",\"gridcolor\":\"white\",\"linecolor\":\"white\",\"showbackground\":true,\"ticks\":\"\",\"zerolinecolor\":\"white\",\"gridwidth\":2}},\"shapedefaults\":{\"line\":{\"color\":\"#2a3f5f\"}},\"annotationdefaults\":{\"arrowcolor\":\"#2a3f5f\",\"arrowhead\":0,\"arrowwidth\":1},\"geo\":{\"bgcolor\":\"white\",\"landcolor\":\"#E5ECF6\",\"subunitcolor\":\"white\",\"showland\":true,\"showlakes\":true,\"lakecolor\":\"white\"},\"title\":{\"x\":0.05},\"mapbox\":{\"style\":\"light\"}}},\"xaxis\":{\"anchor\":\"y\",\"domain\":[0.0,1.0],\"title\":{\"text\":\"city\"},\"categoryorder\":\"array\",\"categoryarray\":[\"Metropolitian \",\"NaN \",\"Semi-Urban \",\"Urban \"]},\"yaxis\":{\"anchor\":\"x\",\"domain\":[0.0,1.0],\"title\":{\"text\":\"road_traffic_density\"}},\"legend\":{\"title\":{\"text\":\"city\"},\"tracegroupgap\":0,\"itemsizing\":\"constant\"},\"margin\":{\"t\":60}},                        {\"responsive\": true}                    ).then(function(){\n",
       "                            \n",
       "var gd = document.getElementById('cba954db-9ede-471b-a4d9-2f115a16c4e6');\n",
       "var x = new MutationObserver(function (mutations, observer) {{\n",
       "        var display = window.getComputedStyle(gd).display;\n",
       "        if (!display || display === 'none') {{\n",
       "            console.log([gd, 'removed!']);\n",
       "            Plotly.purge(gd);\n",
       "            observer.disconnect();\n",
       "        }}\n",
       "}});\n",
       "\n",
       "// Listen for the removal of the full notebook cells\n",
       "var notebookContainer = gd.closest('#notebook-container');\n",
       "if (notebookContainer) {{\n",
       "    x.observe(notebookContainer, {childList: true});\n",
       "}}\n",
       "\n",
       "// Listen for the clearing of the current output cell\n",
       "var outputEl = gd.closest('.output');\n",
       "if (outputEl) {{\n",
       "    x.observe(outputEl, {childList: true});\n",
       "}}\n",
       "\n",
       "                        })                };                });            </script>        </div>"
      ]
     },
     "metadata": {},
     "output_type": "display_data"
    }
   ],
   "source": [
    "aux2 = df2[['id', 'city','road_traffic_density']].groupby( ['city', 'road_traffic_density'] ).count().reset_index()\n",
    "scatter_graph = px.scatter(aux2, x='city', y='road_traffic_density', size='id', color='city')\n",
    "scatter_graph"
   ]
  },
  {
   "cell_type": "markdown",
   "id": "e160457e",
   "metadata": {},
   "source": [
    "## 2.5 A quantidade de pedidos por entregador por semana"
   ]
  },
  {
   "cell_type": "code",
   "execution_count": null,
   "id": "09301e6a",
   "metadata": {
    "ExecuteTime": {
     "end_time": "2023-04-24T21:45:25.146079Z",
     "start_time": "2023-04-24T21:45:25.146073Z"
    }
   },
   "outputs": [],
   "source": [
    "aux1 = df2[['id', 'week_of_year']].groupby( 'week_of_year' ).count().reset_index()\n",
    "aux2 = df2[['delivery_person_id', 'week_of_year']].groupby( 'week_of_year' ).nunique().reset_index()\n",
    "\n",
    "aux3 = pd.merge( aux1, aux2, how='inner' )\n",
    "aux3['order_by_delivery'] = aux3['id'] / aux3['delivery_person_id']\n",
    "\n",
    "line_graph = sns.lineplot(x='week_of_year', y='order_by_delivery', data=aux3);\n",
    "line_graph.set_title(\"Variação da quantidade de pedidos por entregador por semana\")"
   ]
  },
  {
   "cell_type": "markdown",
   "id": "1ff998da",
   "metadata": {},
   "source": [
    "## 2.6 A localização central de cada cidade por tipo de tráfego"
   ]
  },
  {
   "cell_type": "code",
   "execution_count": 18,
   "id": "e27b6f16",
   "metadata": {
    "ExecuteTime": {
     "end_time": "2023-04-24T21:45:26.437126Z",
     "start_time": "2023-04-24T21:45:26.394217Z"
    }
   },
   "outputs": [
    {
     "data": {
      "text/html": [
       "<div style=\"width:100%;\"><div style=\"position:relative;width:100%;height:0;padding-bottom:60%;\"><span style=\"color:#565656\">Make this Notebook Trusted to load map: File -> Trust Notebook</span><iframe srcdoc=\"&lt;!DOCTYPE html&gt;\n",
       "&lt;html&gt;\n",
       "&lt;head&gt;\n",
       "    \n",
       "    &lt;meta http-equiv=&quot;content-type&quot; content=&quot;text/html; charset=UTF-8&quot; /&gt;\n",
       "    \n",
       "        &lt;script&gt;\n",
       "            L_NO_TOUCH = false;\n",
       "            L_DISABLE_3D = false;\n",
       "        &lt;/script&gt;\n",
       "    \n",
       "    &lt;style&gt;html, body {width: 100%;height: 100%;margin: 0;padding: 0;}&lt;/style&gt;\n",
       "    &lt;style&gt;#map {position:absolute;top:0;bottom:0;right:0;left:0;}&lt;/style&gt;\n",
       "    &lt;script src=&quot;https://cdn.jsdelivr.net/npm/leaflet@1.9.3/dist/leaflet.js&quot;&gt;&lt;/script&gt;\n",
       "    &lt;script src=&quot;https://code.jquery.com/jquery-1.12.4.min.js&quot;&gt;&lt;/script&gt;\n",
       "    &lt;script src=&quot;https://cdn.jsdelivr.net/npm/bootstrap@5.2.2/dist/js/bootstrap.bundle.min.js&quot;&gt;&lt;/script&gt;\n",
       "    &lt;script src=&quot;https://cdnjs.cloudflare.com/ajax/libs/Leaflet.awesome-markers/2.0.2/leaflet.awesome-markers.js&quot;&gt;&lt;/script&gt;\n",
       "    &lt;link rel=&quot;stylesheet&quot; href=&quot;https://cdn.jsdelivr.net/npm/leaflet@1.9.3/dist/leaflet.css&quot;/&gt;\n",
       "    &lt;link rel=&quot;stylesheet&quot; href=&quot;https://cdn.jsdelivr.net/npm/bootstrap@5.2.2/dist/css/bootstrap.min.css&quot;/&gt;\n",
       "    &lt;link rel=&quot;stylesheet&quot; href=&quot;https://netdna.bootstrapcdn.com/bootstrap/3.0.0/css/bootstrap.min.css&quot;/&gt;\n",
       "    &lt;link rel=&quot;stylesheet&quot; href=&quot;https://cdn.jsdelivr.net/npm/@fortawesome/fontawesome-free@6.2.0/css/all.min.css&quot;/&gt;\n",
       "    &lt;link rel=&quot;stylesheet&quot; href=&quot;https://cdnjs.cloudflare.com/ajax/libs/Leaflet.awesome-markers/2.0.2/leaflet.awesome-markers.css&quot;/&gt;\n",
       "    &lt;link rel=&quot;stylesheet&quot; href=&quot;https://cdn.jsdelivr.net/gh/python-visualization/folium/folium/templates/leaflet.awesome.rotate.min.css&quot;/&gt;\n",
       "    \n",
       "            &lt;meta name=&quot;viewport&quot; content=&quot;width=device-width,\n",
       "                initial-scale=1.0, maximum-scale=1.0, user-scalable=no&quot; /&gt;\n",
       "            &lt;style&gt;\n",
       "                #map_ddc896dc599649d79ef5e3fa021b70ce {\n",
       "                    position: relative;\n",
       "                    width: 100.0%;\n",
       "                    height: 100.0%;\n",
       "                    left: 0.0%;\n",
       "                    top: 0.0%;\n",
       "                }\n",
       "                .leaflet-container { font-size: 1rem; }\n",
       "            &lt;/style&gt;\n",
       "        \n",
       "&lt;/head&gt;\n",
       "&lt;body&gt;\n",
       "    \n",
       "    \n",
       "            &lt;div class=&quot;folium-map&quot; id=&quot;map_ddc896dc599649d79ef5e3fa021b70ce&quot; &gt;&lt;/div&gt;\n",
       "        \n",
       "&lt;/body&gt;\n",
       "&lt;script&gt;\n",
       "    \n",
       "    \n",
       "            var map_ddc896dc599649d79ef5e3fa021b70ce = L.map(\n",
       "                &quot;map_ddc896dc599649d79ef5e3fa021b70ce&quot;,\n",
       "                {\n",
       "                    center: [0, 0],\n",
       "                    crs: L.CRS.EPSG3857,\n",
       "                    zoom: 1,\n",
       "                    zoomControl: true,\n",
       "                    preferCanvas: false,\n",
       "                }\n",
       "            );\n",
       "\n",
       "            \n",
       "\n",
       "        \n",
       "    \n",
       "            var tile_layer_3e103918a12b4885fbdc5e2d39c4a935 = L.tileLayer(\n",
       "                &quot;https://{s}.tile.openstreetmap.org/{z}/{x}/{y}.png&quot;,\n",
       "                {&quot;attribution&quot;: &quot;Data by \\u0026copy; \\u003ca target=\\&quot;_blank\\&quot; href=\\&quot;http://openstreetmap.org\\&quot;\\u003eOpenStreetMap\\u003c/a\\u003e, under \\u003ca target=\\&quot;_blank\\&quot; href=\\&quot;http://www.openstreetmap.org/copyright\\&quot;\\u003eODbL\\u003c/a\\u003e.&quot;, &quot;detectRetina&quot;: false, &quot;maxNativeZoom&quot;: 18, &quot;maxZoom&quot;: 18, &quot;minZoom&quot;: 0, &quot;noWrap&quot;: false, &quot;opacity&quot;: 1, &quot;subdomains&quot;: &quot;abc&quot;, &quot;tms&quot;: false}\n",
       "            ).addTo(map_ddc896dc599649d79ef5e3fa021b70ce);\n",
       "        \n",
       "    \n",
       "            var marker_8b9ead973ba5986a79ea3026c5b50d46 = L.marker(\n",
       "                [18.57408, 76.305001],\n",
       "                {}\n",
       "            ).addTo(map_ddc896dc599649d79ef5e3fa021b70ce);\n",
       "        \n",
       "    \n",
       "            var marker_0f6a978b5a0ec19e985b4a27c158556e = L.marker(\n",
       "                [18.66144, 76.017648],\n",
       "                {}\n",
       "            ).addTo(map_ddc896dc599649d79ef5e3fa021b70ce);\n",
       "        \n",
       "    \n",
       "            var marker_fa7008b9a2a5d5722c9e27eca66e6fbc = L.marker(\n",
       "                [18.629156, 75.993365],\n",
       "                {}\n",
       "            ).addTo(map_ddc896dc599649d79ef5e3fa021b70ce);\n",
       "        \n",
       "    \n",
       "            var marker_b3d5c0ab161a76b9bde33153586c7421 = L.marker(\n",
       "                [18.64408, 76.017648],\n",
       "                {}\n",
       "            ).addTo(map_ddc896dc599649d79ef5e3fa021b70ce);\n",
       "        \n",
       "    \n",
       "            var marker_698ddc0e36e94a442748c65bd29c84c8 = L.marker(\n",
       "                [13.114082, 77.29720549999999],\n",
       "                {}\n",
       "            ).addTo(map_ddc896dc599649d79ef5e3fa021b70ce);\n",
       "        \n",
       "    \n",
       "            var marker_b737967aeec23953e81df51d43777d09 = L.marker(\n",
       "                [18.550963, 76.642278],\n",
       "                {}\n",
       "            ).addTo(map_ddc896dc599649d79ef5e3fa021b70ce);\n",
       "        \n",
       "    \n",
       "            var marker_739ed4087b20979fe8eaf2b3fadd86a4 = L.marker(\n",
       "                [18.603811, 76.004765],\n",
       "                {}\n",
       "            ).addTo(map_ddc896dc599649d79ef5e3fa021b70ce);\n",
       "        \n",
       "    \n",
       "            var marker_17333dcd2ca125dbe5c468d588dc8444 = L.marker(\n",
       "                [18.613811, 76.252981],\n",
       "                {}\n",
       "            ).addTo(map_ddc896dc599649d79ef5e3fa021b70ce);\n",
       "        \n",
       "    \n",
       "            var marker_8e8bbb932b6344146ce2ddbbefd739c9 = L.marker(\n",
       "                [18.586640000000003, 76.008659],\n",
       "                {}\n",
       "            ).addTo(map_ddc896dc599649d79ef5e3fa021b70ce);\n",
       "        \n",
       "    \n",
       "            var marker_3d52c3d52fb8ad8f3c1d7432d7672abb = L.marker(\n",
       "                [18.8165695, 78.7248235],\n",
       "                {}\n",
       "            ).addTo(map_ddc896dc599649d79ef5e3fa021b70ce);\n",
       "        \n",
       "    \n",
       "            var marker_d2b63d2461d9d68bbd0bc3ede07e87e7 = L.marker(\n",
       "                [20.4634775, 76.8149765],\n",
       "                {}\n",
       "            ).addTo(map_ddc896dc599649d79ef5e3fa021b70ce);\n",
       "        \n",
       "    \n",
       "            var marker_ad58c51b0680191f3aa01c584d63fc8f = L.marker(\n",
       "                [17.5398855, 76.69284350000001],\n",
       "                {}\n",
       "            ).addTo(map_ddc896dc599649d79ef5e3fa021b70ce);\n",
       "        \n",
       "    \n",
       "            var marker_6e4aae6c284d393f9d83afb0a90fb3f1 = L.marker(\n",
       "                [21.251581, 77.731931],\n",
       "                {}\n",
       "            ).addTo(map_ddc896dc599649d79ef5e3fa021b70ce);\n",
       "        \n",
       "    \n",
       "            var marker_f30d6afd91af16c6b54c8dd06ef97778 = L.marker(\n",
       "                [18.796899500000002, 75.923106],\n",
       "                {}\n",
       "            ).addTo(map_ddc896dc599649d79ef5e3fa021b70ce);\n",
       "        \n",
       "    \n",
       "            var marker_ba4c7fcf51febe1bffaaed929056b117 = L.marker(\n",
       "                [18.6574485, 75.9780725],\n",
       "                {}\n",
       "            ).addTo(map_ddc896dc599649d79ef5e3fa021b70ce);\n",
       "        \n",
       "    \n",
       "            var marker_c0b0d0482971c167c95c728e99ec5dc2 = L.marker(\n",
       "                [18.6112015, 75.9542945],\n",
       "                {}\n",
       "            ).addTo(map_ddc896dc599649d79ef5e3fa021b70ce);\n",
       "        \n",
       "    \n",
       "            var marker_f7cf294fd396a066b2f93811176172bf = L.marker(\n",
       "                [18.642965500000003, 76.3190635],\n",
       "                {}\n",
       "            ).addTo(map_ddc896dc599649d79ef5e3fa021b70ce);\n",
       "        \n",
       "    \n",
       "            var marker_996b4126318911d63c0b98c7dd4481e8 = L.marker(\n",
       "                [13.216439, 76.981082],\n",
       "                {}\n",
       "            ).addTo(map_ddc896dc599649d79ef5e3fa021b70ce);\n",
       "        \n",
       "&lt;/script&gt;\n",
       "&lt;/html&gt;\" style=\"position:absolute;width:100%;height:100%;left:0;top:0;border:none !important;\" allowfullscreen webkitallowfullscreen mozallowfullscreen></iframe></div></div>"
      ],
      "text/plain": [
       "<folium.folium.Map at 0x17e49e0d0>"
      ]
     },
     "execution_count": 18,
     "metadata": {},
     "output_type": "execute_result"
    }
   ],
   "source": [
    "data_plot = df2.loc[:, ['city', 'road_traffic_density', 'delivery_location_latitude', 'delivery_location_longitude']].groupby( ['city', 'road_traffic_density'] ).median().reset_index()\n",
    "\n",
    "map_ = folium.Map( zoom_start=11 )\n",
    "for index, location_info in data_plot.iterrows():\n",
    "    folium.Marker( [location_info['delivery_location_latitude'], location_info['delivery_location_longitude']] ).add_to(map_)\n",
    "                    \n",
    "map_"
   ]
  },
  {
   "cell_type": "markdown",
   "id": "240f5c8a",
   "metadata": {},
   "source": [
    "# 3.0 A visão: Entregadores"
   ]
  },
  {
   "cell_type": "code",
   "execution_count": 19,
   "id": "c9c83103",
   "metadata": {
    "ExecuteTime": {
     "end_time": "2023-04-24T21:45:28.033885Z",
     "start_time": "2023-04-24T21:45:28.025195Z"
    }
   },
   "outputs": [],
   "source": [
    "df3 = df2.copy()"
   ]
  },
  {
   "cell_type": "markdown",
   "id": "acab6b4a",
   "metadata": {},
   "source": [
    "Perguntas de negócio\n",
    "\n",
    "- 1. A menor e maior idade dos entregadores.\n",
    "- 2. A pior e a melhor condição de veículos.\n",
    "- 3. A avaliação média por entregador.\n",
    "- 4. A avaliação média e o desvio padrão por tipo de tráfego.\n",
    "- 5. A avaliação média e o desvio padrão por condições climáticas.\n",
    "- 6. Os 10 entregadores mais rápidos por cidade.\n",
    "- 7. Os 10 entregadores mais lentos por cidade"
   ]
  },
  {
   "cell_type": "markdown",
   "id": "945cbcab",
   "metadata": {},
   "source": [
    "## 3.1 A menor e maior idade dos entregadores"
   ]
  },
  {
   "cell_type": "code",
   "execution_count": 20,
   "id": "d12c190e",
   "metadata": {
    "ExecuteTime": {
     "end_time": "2023-04-24T21:45:29.455687Z",
     "start_time": "2023-04-24T21:45:29.446869Z"
    }
   },
   "outputs": [
    {
     "name": "stdout",
     "output_type": "stream",
     "text": [
      "A maior idade dos entregadores é 50, emquanto que a menor é 15\n"
     ]
    }
   ],
   "source": [
    "max_age = df3['delivery_person_age'].max()\n",
    "min_age = df3['delivery_person_age'].min()\n",
    "\n",
    "print(f'A maior idade dos entregadores é {max_age}, emquanto que a menor é {min_age}')"
   ]
  },
  {
   "cell_type": "markdown",
   "id": "ad88709f",
   "metadata": {},
   "source": [
    "## 3.2 A pior e a melhor condição de veículos"
   ]
  },
  {
   "cell_type": "code",
   "execution_count": 21,
   "id": "291bfc4b",
   "metadata": {
    "ExecuteTime": {
     "end_time": "2023-04-24T21:45:31.253631Z",
     "start_time": "2023-04-24T21:45:31.246856Z"
    }
   },
   "outputs": [
    {
     "name": "stdout",
     "output_type": "stream",
     "text": [
      "A melhor condição de veículo é 3, emquanto que a menor é 0\n"
     ]
    }
   ],
   "source": [
    "max_cond = df3['vehicle_condition'].max()\n",
    "min_cond = df3['vehicle_condition'].min()\n",
    "\n",
    "print(f'A melhor condição de veículo é {max_cond}, emquanto que a menor é {min_cond}')"
   ]
  },
  {
   "cell_type": "markdown",
   "id": "820a6a07",
   "metadata": {},
   "source": [
    "## 3.3 A avaliação média por entregador"
   ]
  },
  {
   "cell_type": "code",
   "execution_count": 22,
   "id": "2cdb9b11",
   "metadata": {
    "ExecuteTime": {
     "end_time": "2023-04-24T21:45:32.884770Z",
     "start_time": "2023-04-24T21:45:32.876796Z"
    }
   },
   "outputs": [
    {
     "name": "stdout",
     "output_type": "stream",
     "text": [
      "A avaliação média por entregador é 4.627326246933769\n"
     ]
    }
   ],
   "source": [
    "mean_rating = df3['delivery_person_ratings'].sum() / df3['delivery_person_ratings'].shape[0]\n",
    "\n",
    "print(f'A avaliação média por entregador é {mean_rating}')"
   ]
  },
  {
   "cell_type": "markdown",
   "id": "9c5114de",
   "metadata": {},
   "source": [
    "## 3.4 A avaliação média e o desvio padrão por tipo de tráfego"
   ]
  },
  {
   "cell_type": "code",
   "execution_count": 23,
   "id": "10e74f21",
   "metadata": {
    "ExecuteTime": {
     "end_time": "2023-04-24T21:45:33.799816Z",
     "start_time": "2023-04-24T21:45:33.776789Z"
    }
   },
   "outputs": [
    {
     "data": {
      "text/html": [
       "<div>\n",
       "<style scoped>\n",
       "    .dataframe tbody tr th:only-of-type {\n",
       "        vertical-align: middle;\n",
       "    }\n",
       "\n",
       "    .dataframe tbody tr th {\n",
       "        vertical-align: top;\n",
       "    }\n",
       "\n",
       "    .dataframe thead th {\n",
       "        text-align: right;\n",
       "    }\n",
       "</style>\n",
       "<table border=\"1\" class=\"dataframe\">\n",
       "  <thead>\n",
       "    <tr style=\"text-align: right;\">\n",
       "      <th></th>\n",
       "      <th>road_traffic_density</th>\n",
       "      <th>delivery_mean</th>\n",
       "      <th>delivery_std</th>\n",
       "    </tr>\n",
       "  </thead>\n",
       "  <tbody>\n",
       "    <tr>\n",
       "      <th>0</th>\n",
       "      <td>High</td>\n",
       "      <td>4.653492</td>\n",
       "      <td>0.272312</td>\n",
       "    </tr>\n",
       "    <tr>\n",
       "      <th>1</th>\n",
       "      <td>Jam</td>\n",
       "      <td>4.595395</td>\n",
       "      <td>0.328749</td>\n",
       "    </tr>\n",
       "    <tr>\n",
       "      <th>2</th>\n",
       "      <td>Low</td>\n",
       "      <td>4.646780</td>\n",
       "      <td>0.335426</td>\n",
       "    </tr>\n",
       "    <tr>\n",
       "      <th>3</th>\n",
       "      <td>Medium</td>\n",
       "      <td>4.660627</td>\n",
       "      <td>0.273472</td>\n",
       "    </tr>\n",
       "    <tr>\n",
       "      <th>4</th>\n",
       "      <td>NaN</td>\n",
       "      <td>3.912088</td>\n",
       "      <td>2.479464</td>\n",
       "    </tr>\n",
       "  </tbody>\n",
       "</table>\n",
       "</div>"
      ],
      "text/plain": [
       "  road_traffic_density  delivery_mean  delivery_std\n",
       "0                High        4.653492      0.272312\n",
       "1                 Jam        4.595395      0.328749\n",
       "2                 Low        4.646780      0.335426\n",
       "3              Medium        4.660627      0.273472\n",
       "4                 NaN        3.912088      2.479464"
      ]
     },
     "execution_count": 23,
     "metadata": {},
     "output_type": "execute_result"
    }
   ],
   "source": [
    "aux_rate = df3[['delivery_person_ratings', 'road_traffic_density']].groupby( 'road_traffic_density' ).agg({'delivery_person_ratings' : ['mean', 'std' ]})\n",
    "aux_rate.columns = ['delivery_mean', 'delivery_std']\n",
    "aux_rate.reset_index()"
   ]
  },
  {
   "cell_type": "markdown",
   "id": "a3f31a82",
   "metadata": {},
   "source": [
    "## 3.5 A avaliação média e o desvio padrão por condição climática "
   ]
  },
  {
   "cell_type": "code",
   "execution_count": 24,
   "id": "2ad1f744",
   "metadata": {
    "ExecuteTime": {
     "end_time": "2023-04-24T21:45:34.801848Z",
     "start_time": "2023-04-24T21:45:34.776757Z"
    }
   },
   "outputs": [
    {
     "data": {
      "text/html": [
       "<div>\n",
       "<style scoped>\n",
       "    .dataframe tbody tr th:only-of-type {\n",
       "        vertical-align: middle;\n",
       "    }\n",
       "\n",
       "    .dataframe tbody tr th {\n",
       "        vertical-align: top;\n",
       "    }\n",
       "\n",
       "    .dataframe thead th {\n",
       "        text-align: right;\n",
       "    }\n",
       "</style>\n",
       "<table border=\"1\" class=\"dataframe\">\n",
       "  <thead>\n",
       "    <tr style=\"text-align: right;\">\n",
       "      <th></th>\n",
       "      <th>weatherconditions</th>\n",
       "      <th>delivery_mean</th>\n",
       "      <th>delivery_std</th>\n",
       "    </tr>\n",
       "  </thead>\n",
       "  <tbody>\n",
       "    <tr>\n",
       "      <th>0</th>\n",
       "      <td>conditions Cloudy</td>\n",
       "      <td>4.652190</td>\n",
       "      <td>0.280269</td>\n",
       "    </tr>\n",
       "    <tr>\n",
       "      <th>1</th>\n",
       "      <td>conditions Fog</td>\n",
       "      <td>4.653549</td>\n",
       "      <td>0.273893</td>\n",
       "    </tr>\n",
       "    <tr>\n",
       "      <th>2</th>\n",
       "      <td>conditions NaN</td>\n",
       "      <td>3.912088</td>\n",
       "      <td>2.479464</td>\n",
       "    </tr>\n",
       "    <tr>\n",
       "      <th>3</th>\n",
       "      <td>conditions Sandstorms</td>\n",
       "      <td>4.613000</td>\n",
       "      <td>0.309512</td>\n",
       "    </tr>\n",
       "    <tr>\n",
       "      <th>4</th>\n",
       "      <td>conditions Stormy</td>\n",
       "      <td>4.613369</td>\n",
       "      <td>0.311624</td>\n",
       "    </tr>\n",
       "    <tr>\n",
       "      <th>5</th>\n",
       "      <td>conditions Sunny</td>\n",
       "      <td>4.658030</td>\n",
       "      <td>0.393090</td>\n",
       "    </tr>\n",
       "    <tr>\n",
       "      <th>6</th>\n",
       "      <td>conditions Windy</td>\n",
       "      <td>4.617804</td>\n",
       "      <td>0.303464</td>\n",
       "    </tr>\n",
       "  </tbody>\n",
       "</table>\n",
       "</div>"
      ],
      "text/plain": [
       "       weatherconditions  delivery_mean  delivery_std\n",
       "0      conditions Cloudy       4.652190      0.280269\n",
       "1         conditions Fog       4.653549      0.273893\n",
       "2         conditions NaN       3.912088      2.479464\n",
       "3  conditions Sandstorms       4.613000      0.309512\n",
       "4      conditions Stormy       4.613369      0.311624\n",
       "5       conditions Sunny       4.658030      0.393090\n",
       "6       conditions Windy       4.617804      0.303464"
      ]
     },
     "execution_count": 24,
     "metadata": {},
     "output_type": "execute_result"
    }
   ],
   "source": [
    "aux_cond = df3[['delivery_person_ratings', 'weatherconditions']].groupby( 'weatherconditions' ).agg({'delivery_person_ratings' : ['mean', 'std' ]})\n",
    "aux_cond.columns = ['delivery_mean', 'delivery_std']\n",
    "aux_cond.reset_index()"
   ]
  },
  {
   "cell_type": "markdown",
   "id": "73565ff6",
   "metadata": {},
   "source": [
    "## 3.6 Os 10 entregadores mais rápidos por cidade."
   ]
  },
  {
   "cell_type": "code",
   "execution_count": 35,
   "id": "d1cc09ec",
   "metadata": {
    "ExecuteTime": {
     "end_time": "2023-04-24T21:52:29.231437Z",
     "start_time": "2023-04-24T21:52:29.194676Z"
    }
   },
   "outputs": [
    {
     "data": {
      "text/html": [
       "<div>\n",
       "<style scoped>\n",
       "    .dataframe tbody tr th:only-of-type {\n",
       "        vertical-align: middle;\n",
       "    }\n",
       "\n",
       "    .dataframe tbody tr th {\n",
       "        vertical-align: top;\n",
       "    }\n",
       "\n",
       "    .dataframe thead th {\n",
       "        text-align: right;\n",
       "    }\n",
       "</style>\n",
       "<table border=\"1\" class=\"dataframe\">\n",
       "  <thead>\n",
       "    <tr style=\"text-align: right;\">\n",
       "      <th></th>\n",
       "      <th>city</th>\n",
       "      <th>delivery_person_id</th>\n",
       "      <th>time_taken(min)</th>\n",
       "    </tr>\n",
       "  </thead>\n",
       "  <tbody>\n",
       "    <tr>\n",
       "      <th>0</th>\n",
       "      <td>Metropolitian</td>\n",
       "      <td>AGRRES010DEL03</td>\n",
       "      <td>10</td>\n",
       "    </tr>\n",
       "    <tr>\n",
       "      <th>1</th>\n",
       "      <td>Metropolitian</td>\n",
       "      <td>AGRRES07DEL03</td>\n",
       "      <td>10</td>\n",
       "    </tr>\n",
       "    <tr>\n",
       "      <th>2</th>\n",
       "      <td>Metropolitian</td>\n",
       "      <td>AGRRES12DEL01</td>\n",
       "      <td>10</td>\n",
       "    </tr>\n",
       "    <tr>\n",
       "      <th>3</th>\n",
       "      <td>Metropolitian</td>\n",
       "      <td>AGRRES14DEL01</td>\n",
       "      <td>10</td>\n",
       "    </tr>\n",
       "    <tr>\n",
       "      <th>4</th>\n",
       "      <td>Metropolitian</td>\n",
       "      <td>AGRRES17DEL03</td>\n",
       "      <td>10</td>\n",
       "    </tr>\n",
       "    <tr>\n",
       "      <th>5</th>\n",
       "      <td>Metropolitian</td>\n",
       "      <td>ALHRES08DEL03</td>\n",
       "      <td>10</td>\n",
       "    </tr>\n",
       "    <tr>\n",
       "      <th>6</th>\n",
       "      <td>Metropolitian</td>\n",
       "      <td>ALHRES12DEL01</td>\n",
       "      <td>10</td>\n",
       "    </tr>\n",
       "    <tr>\n",
       "      <th>7</th>\n",
       "      <td>Metropolitian</td>\n",
       "      <td>ALHRES13DEL01</td>\n",
       "      <td>10</td>\n",
       "    </tr>\n",
       "    <tr>\n",
       "      <th>8</th>\n",
       "      <td>Metropolitian</td>\n",
       "      <td>ALHRES14DEL02</td>\n",
       "      <td>10</td>\n",
       "    </tr>\n",
       "    <tr>\n",
       "      <th>9</th>\n",
       "      <td>Metropolitian</td>\n",
       "      <td>ALHRES15DEL02</td>\n",
       "      <td>10</td>\n",
       "    </tr>\n",
       "    <tr>\n",
       "      <th>10</th>\n",
       "      <td>Urban</td>\n",
       "      <td>AGRRES03DEL01</td>\n",
       "      <td>10</td>\n",
       "    </tr>\n",
       "    <tr>\n",
       "      <th>11</th>\n",
       "      <td>Urban</td>\n",
       "      <td>AGRRES08DEL03</td>\n",
       "      <td>10</td>\n",
       "    </tr>\n",
       "    <tr>\n",
       "      <th>12</th>\n",
       "      <td>Urban</td>\n",
       "      <td>AGRRES11DEL01</td>\n",
       "      <td>10</td>\n",
       "    </tr>\n",
       "    <tr>\n",
       "      <th>13</th>\n",
       "      <td>Urban</td>\n",
       "      <td>ALHRES01DEL01</td>\n",
       "      <td>10</td>\n",
       "    </tr>\n",
       "    <tr>\n",
       "      <th>14</th>\n",
       "      <td>Urban</td>\n",
       "      <td>ALHRES04DEL01</td>\n",
       "      <td>10</td>\n",
       "    </tr>\n",
       "    <tr>\n",
       "      <th>15</th>\n",
       "      <td>Urban</td>\n",
       "      <td>ALHRES19DEL01</td>\n",
       "      <td>10</td>\n",
       "    </tr>\n",
       "    <tr>\n",
       "      <th>16</th>\n",
       "      <td>Urban</td>\n",
       "      <td>AURGRES02DEL03</td>\n",
       "      <td>10</td>\n",
       "    </tr>\n",
       "    <tr>\n",
       "      <th>17</th>\n",
       "      <td>Urban</td>\n",
       "      <td>AURGRES08DEL02</td>\n",
       "      <td>10</td>\n",
       "    </tr>\n",
       "    <tr>\n",
       "      <th>18</th>\n",
       "      <td>Urban</td>\n",
       "      <td>AURGRES11DEL02</td>\n",
       "      <td>10</td>\n",
       "    </tr>\n",
       "    <tr>\n",
       "      <th>19</th>\n",
       "      <td>Urban</td>\n",
       "      <td>AURGRES12DEL01</td>\n",
       "      <td>10</td>\n",
       "    </tr>\n",
       "    <tr>\n",
       "      <th>20</th>\n",
       "      <td>Semi-Urban</td>\n",
       "      <td>INDORES16DEL01</td>\n",
       "      <td>44</td>\n",
       "    </tr>\n",
       "    <tr>\n",
       "      <th>21</th>\n",
       "      <td>Semi-Urban</td>\n",
       "      <td>MYSRES18DEL01</td>\n",
       "      <td>44</td>\n",
       "    </tr>\n",
       "    <tr>\n",
       "      <th>22</th>\n",
       "      <td>Semi-Urban</td>\n",
       "      <td>SURRES19DEL01</td>\n",
       "      <td>44</td>\n",
       "    </tr>\n",
       "    <tr>\n",
       "      <th>23</th>\n",
       "      <td>Semi-Urban</td>\n",
       "      <td>BANGRES18DEL03</td>\n",
       "      <td>45</td>\n",
       "    </tr>\n",
       "    <tr>\n",
       "      <th>24</th>\n",
       "      <td>Semi-Urban</td>\n",
       "      <td>SURRES12DEL03</td>\n",
       "      <td>45</td>\n",
       "    </tr>\n",
       "    <tr>\n",
       "      <th>25</th>\n",
       "      <td>Semi-Urban</td>\n",
       "      <td>COIMBRES17DEL01</td>\n",
       "      <td>46</td>\n",
       "    </tr>\n",
       "    <tr>\n",
       "      <th>26</th>\n",
       "      <td>Semi-Urban</td>\n",
       "      <td>HYDRES03DEL03</td>\n",
       "      <td>46</td>\n",
       "    </tr>\n",
       "    <tr>\n",
       "      <th>27</th>\n",
       "      <td>Semi-Urban</td>\n",
       "      <td>HYDRES09DEL02</td>\n",
       "      <td>46</td>\n",
       "    </tr>\n",
       "    <tr>\n",
       "      <th>28</th>\n",
       "      <td>Semi-Urban</td>\n",
       "      <td>INDORES19DEL01</td>\n",
       "      <td>46</td>\n",
       "    </tr>\n",
       "    <tr>\n",
       "      <th>29</th>\n",
       "      <td>Semi-Urban</td>\n",
       "      <td>MUMRES02DEL01</td>\n",
       "      <td>46</td>\n",
       "    </tr>\n",
       "    <tr>\n",
       "      <th>30</th>\n",
       "      <td>NaN</td>\n",
       "      <td>AGRRES14DEL02</td>\n",
       "      <td>10</td>\n",
       "    </tr>\n",
       "    <tr>\n",
       "      <th>31</th>\n",
       "      <td>NaN</td>\n",
       "      <td>BANGRES06DEL02</td>\n",
       "      <td>10</td>\n",
       "    </tr>\n",
       "    <tr>\n",
       "      <th>32</th>\n",
       "      <td>NaN</td>\n",
       "      <td>BANGRES11DEL02</td>\n",
       "      <td>10</td>\n",
       "    </tr>\n",
       "    <tr>\n",
       "      <th>33</th>\n",
       "      <td>NaN</td>\n",
       "      <td>BANGRES14DEL01</td>\n",
       "      <td>10</td>\n",
       "    </tr>\n",
       "    <tr>\n",
       "      <th>34</th>\n",
       "      <td>NaN</td>\n",
       "      <td>BHPRES18DEL02</td>\n",
       "      <td>10</td>\n",
       "    </tr>\n",
       "    <tr>\n",
       "      <th>35</th>\n",
       "      <td>NaN</td>\n",
       "      <td>CHENRES07DEL02</td>\n",
       "      <td>10</td>\n",
       "    </tr>\n",
       "    <tr>\n",
       "      <th>36</th>\n",
       "      <td>NaN</td>\n",
       "      <td>COIMBRES02DEL03</td>\n",
       "      <td>10</td>\n",
       "    </tr>\n",
       "    <tr>\n",
       "      <th>37</th>\n",
       "      <td>NaN</td>\n",
       "      <td>COIMBRES05DEL02</td>\n",
       "      <td>10</td>\n",
       "    </tr>\n",
       "    <tr>\n",
       "      <th>38</th>\n",
       "      <td>NaN</td>\n",
       "      <td>COIMBRES06DEL01</td>\n",
       "      <td>10</td>\n",
       "    </tr>\n",
       "    <tr>\n",
       "      <th>39</th>\n",
       "      <td>NaN</td>\n",
       "      <td>COIMBRES11DEL01</td>\n",
       "      <td>10</td>\n",
       "    </tr>\n",
       "  </tbody>\n",
       "</table>\n",
       "</div>"
      ],
      "text/plain": [
       "              city delivery_person_id  time_taken(min)\n",
       "0   Metropolitian     AGRRES010DEL03                10\n",
       "1   Metropolitian      AGRRES07DEL03                10\n",
       "2   Metropolitian      AGRRES12DEL01                10\n",
       "3   Metropolitian      AGRRES14DEL01                10\n",
       "4   Metropolitian      AGRRES17DEL03                10\n",
       "5   Metropolitian      ALHRES08DEL03                10\n",
       "6   Metropolitian      ALHRES12DEL01                10\n",
       "7   Metropolitian      ALHRES13DEL01                10\n",
       "8   Metropolitian      ALHRES14DEL02                10\n",
       "9   Metropolitian      ALHRES15DEL02                10\n",
       "10          Urban      AGRRES03DEL01                10\n",
       "11          Urban      AGRRES08DEL03                10\n",
       "12          Urban      AGRRES11DEL01                10\n",
       "13          Urban      ALHRES01DEL01                10\n",
       "14          Urban      ALHRES04DEL01                10\n",
       "15          Urban      ALHRES19DEL01                10\n",
       "16          Urban     AURGRES02DEL03                10\n",
       "17          Urban     AURGRES08DEL02                10\n",
       "18          Urban     AURGRES11DEL02                10\n",
       "19          Urban     AURGRES12DEL01                10\n",
       "20     Semi-Urban     INDORES16DEL01                44\n",
       "21     Semi-Urban      MYSRES18DEL01                44\n",
       "22     Semi-Urban      SURRES19DEL01                44\n",
       "23     Semi-Urban     BANGRES18DEL03                45\n",
       "24     Semi-Urban      SURRES12DEL03                45\n",
       "25     Semi-Urban    COIMBRES17DEL01                46\n",
       "26     Semi-Urban      HYDRES03DEL03                46\n",
       "27     Semi-Urban      HYDRES09DEL02                46\n",
       "28     Semi-Urban     INDORES19DEL01                46\n",
       "29     Semi-Urban      MUMRES02DEL01                46\n",
       "30            NaN      AGRRES14DEL02                10\n",
       "31            NaN     BANGRES06DEL02                10\n",
       "32            NaN     BANGRES11DEL02                10\n",
       "33            NaN     BANGRES14DEL01                10\n",
       "34            NaN      BHPRES18DEL02                10\n",
       "35            NaN     CHENRES07DEL02                10\n",
       "36            NaN    COIMBRES02DEL03                10\n",
       "37            NaN    COIMBRES05DEL02                10\n",
       "38            NaN    COIMBRES06DEL01                10\n",
       "39            NaN    COIMBRES11DEL01                10"
      ]
     },
     "execution_count": 35,
     "metadata": {},
     "output_type": "execute_result"
    }
   ],
   "source": [
    "aux = df3[['city', 'delivery_person_id', 'time_taken(min)']].groupby(['city', 'delivery_person_id']).min().sort_values(['time_taken(min)', 'city'], ascending=True).reset_index()\n",
    "\n",
    "aux1 = aux.loc[aux['city'] == 'Metropolitian ', :].head(10)\n",
    "aux2 = aux.loc[aux['city'] == 'Urban ', :].head(10)\n",
    "aux3 = aux.loc[aux['city'] == 'Semi-Urban ', :].head(10)\n",
    "aux4 = aux.loc[aux['city'] == 'NaN ', :].head(10)\n",
    "\n",
    "top_10_fast = pd.concat([aux1, aux2, aux3, aux4]).reset_index(drop=True)\n",
    "top_10_fast"
   ]
  },
  {
   "cell_type": "markdown",
   "id": "9a4a3918",
   "metadata": {
    "ExecuteTime": {
     "end_time": "2023-04-24T21:31:29.496762Z",
     "start_time": "2023-04-24T21:31:29.492359Z"
    }
   },
   "source": [
    "## 3.7 Os 10 entregadores mais lentos por cidade."
   ]
  },
  {
   "cell_type": "code",
   "execution_count": 34,
   "id": "89235575",
   "metadata": {
    "ExecuteTime": {
     "end_time": "2023-04-24T21:52:13.474627Z",
     "start_time": "2023-04-24T21:52:13.441691Z"
    }
   },
   "outputs": [
    {
     "data": {
      "text/html": [
       "<div>\n",
       "<style scoped>\n",
       "    .dataframe tbody tr th:only-of-type {\n",
       "        vertical-align: middle;\n",
       "    }\n",
       "\n",
       "    .dataframe tbody tr th {\n",
       "        vertical-align: top;\n",
       "    }\n",
       "\n",
       "    .dataframe thead th {\n",
       "        text-align: right;\n",
       "    }\n",
       "</style>\n",
       "<table border=\"1\" class=\"dataframe\">\n",
       "  <thead>\n",
       "    <tr style=\"text-align: right;\">\n",
       "      <th></th>\n",
       "      <th>city</th>\n",
       "      <th>delivery_person_id</th>\n",
       "      <th>time_taken(min)</th>\n",
       "    </tr>\n",
       "  </thead>\n",
       "  <tbody>\n",
       "    <tr>\n",
       "      <th>0</th>\n",
       "      <td>Metropolitian</td>\n",
       "      <td>ALHRES010DEL01</td>\n",
       "      <td>54</td>\n",
       "    </tr>\n",
       "    <tr>\n",
       "      <th>1</th>\n",
       "      <td>Metropolitian</td>\n",
       "      <td>AURGRES13DEL01</td>\n",
       "      <td>54</td>\n",
       "    </tr>\n",
       "    <tr>\n",
       "      <th>2</th>\n",
       "      <td>Metropolitian</td>\n",
       "      <td>BANGRES02DEL01</td>\n",
       "      <td>54</td>\n",
       "    </tr>\n",
       "    <tr>\n",
       "      <th>3</th>\n",
       "      <td>Metropolitian</td>\n",
       "      <td>BHPRES16DEL02</td>\n",
       "      <td>54</td>\n",
       "    </tr>\n",
       "    <tr>\n",
       "      <th>4</th>\n",
       "      <td>Metropolitian</td>\n",
       "      <td>CHENRES02DEL02</td>\n",
       "      <td>54</td>\n",
       "    </tr>\n",
       "    <tr>\n",
       "      <th>5</th>\n",
       "      <td>Metropolitian</td>\n",
       "      <td>CHENRES04DEL01</td>\n",
       "      <td>54</td>\n",
       "    </tr>\n",
       "    <tr>\n",
       "      <th>6</th>\n",
       "      <td>Metropolitian</td>\n",
       "      <td>CHENRES07DEL03</td>\n",
       "      <td>54</td>\n",
       "    </tr>\n",
       "    <tr>\n",
       "      <th>7</th>\n",
       "      <td>Metropolitian</td>\n",
       "      <td>CHENRES08DEL01</td>\n",
       "      <td>54</td>\n",
       "    </tr>\n",
       "    <tr>\n",
       "      <th>8</th>\n",
       "      <td>Metropolitian</td>\n",
       "      <td>CHENRES13DEL02</td>\n",
       "      <td>54</td>\n",
       "    </tr>\n",
       "    <tr>\n",
       "      <th>9</th>\n",
       "      <td>Metropolitian</td>\n",
       "      <td>COIMBRES010DEL03</td>\n",
       "      <td>54</td>\n",
       "    </tr>\n",
       "    <tr>\n",
       "      <th>10</th>\n",
       "      <td>Urban</td>\n",
       "      <td>JAPRES05DEL02</td>\n",
       "      <td>54</td>\n",
       "    </tr>\n",
       "    <tr>\n",
       "      <th>11</th>\n",
       "      <td>Urban</td>\n",
       "      <td>JAPRES12DEL02</td>\n",
       "      <td>54</td>\n",
       "    </tr>\n",
       "    <tr>\n",
       "      <th>12</th>\n",
       "      <td>Urban</td>\n",
       "      <td>JAPRES17DEL01</td>\n",
       "      <td>54</td>\n",
       "    </tr>\n",
       "    <tr>\n",
       "      <th>13</th>\n",
       "      <td>Urban</td>\n",
       "      <td>PUNERES14DEL02</td>\n",
       "      <td>54</td>\n",
       "    </tr>\n",
       "    <tr>\n",
       "      <th>14</th>\n",
       "      <td>Urban</td>\n",
       "      <td>SURRES08DEL02</td>\n",
       "      <td>54</td>\n",
       "    </tr>\n",
       "    <tr>\n",
       "      <th>15</th>\n",
       "      <td>Urban</td>\n",
       "      <td>SURRES08DEL03</td>\n",
       "      <td>54</td>\n",
       "    </tr>\n",
       "    <tr>\n",
       "      <th>16</th>\n",
       "      <td>Urban</td>\n",
       "      <td>VADRES05DEL03</td>\n",
       "      <td>54</td>\n",
       "    </tr>\n",
       "    <tr>\n",
       "      <th>17</th>\n",
       "      <td>Urban</td>\n",
       "      <td>ALHRES09DEL02</td>\n",
       "      <td>53</td>\n",
       "    </tr>\n",
       "    <tr>\n",
       "      <th>18</th>\n",
       "      <td>Urban</td>\n",
       "      <td>CHENRES20DEL02</td>\n",
       "      <td>53</td>\n",
       "    </tr>\n",
       "    <tr>\n",
       "      <th>19</th>\n",
       "      <td>Urban</td>\n",
       "      <td>JAPRES03DEL01</td>\n",
       "      <td>53</td>\n",
       "    </tr>\n",
       "    <tr>\n",
       "      <th>20</th>\n",
       "      <td>Semi-Urban</td>\n",
       "      <td>AGRRES17DEL01</td>\n",
       "      <td>54</td>\n",
       "    </tr>\n",
       "    <tr>\n",
       "      <th>21</th>\n",
       "      <td>Semi-Urban</td>\n",
       "      <td>BANGRES010DEL01</td>\n",
       "      <td>54</td>\n",
       "    </tr>\n",
       "    <tr>\n",
       "      <th>22</th>\n",
       "      <td>Semi-Urban</td>\n",
       "      <td>COIMBRES08DEL03</td>\n",
       "      <td>54</td>\n",
       "    </tr>\n",
       "    <tr>\n",
       "      <th>23</th>\n",
       "      <td>Semi-Urban</td>\n",
       "      <td>GOARES18DEL01</td>\n",
       "      <td>54</td>\n",
       "    </tr>\n",
       "    <tr>\n",
       "      <th>24</th>\n",
       "      <td>Semi-Urban</td>\n",
       "      <td>HYDRES19DEL01</td>\n",
       "      <td>54</td>\n",
       "    </tr>\n",
       "    <tr>\n",
       "      <th>25</th>\n",
       "      <td>Semi-Urban</td>\n",
       "      <td>INDORES15DEL01</td>\n",
       "      <td>54</td>\n",
       "    </tr>\n",
       "    <tr>\n",
       "      <th>26</th>\n",
       "      <td>Semi-Urban</td>\n",
       "      <td>JAPRES03DEL02</td>\n",
       "      <td>54</td>\n",
       "    </tr>\n",
       "    <tr>\n",
       "      <th>27</th>\n",
       "      <td>Semi-Urban</td>\n",
       "      <td>JAPRES09DEL01</td>\n",
       "      <td>54</td>\n",
       "    </tr>\n",
       "    <tr>\n",
       "      <th>28</th>\n",
       "      <td>Semi-Urban</td>\n",
       "      <td>JAPRES14DEL02</td>\n",
       "      <td>54</td>\n",
       "    </tr>\n",
       "    <tr>\n",
       "      <th>29</th>\n",
       "      <td>Semi-Urban</td>\n",
       "      <td>LUDHRES05DEL01</td>\n",
       "      <td>54</td>\n",
       "    </tr>\n",
       "    <tr>\n",
       "      <th>30</th>\n",
       "      <td>NaN</td>\n",
       "      <td>AGRRES14DEL01</td>\n",
       "      <td>54</td>\n",
       "    </tr>\n",
       "    <tr>\n",
       "      <th>31</th>\n",
       "      <td>NaN</td>\n",
       "      <td>MYSRES01DEL01</td>\n",
       "      <td>52</td>\n",
       "    </tr>\n",
       "    <tr>\n",
       "      <th>32</th>\n",
       "      <td>NaN</td>\n",
       "      <td>SURRES01DEL01</td>\n",
       "      <td>49</td>\n",
       "    </tr>\n",
       "    <tr>\n",
       "      <th>33</th>\n",
       "      <td>NaN</td>\n",
       "      <td>CHENRES02DEL01</td>\n",
       "      <td>48</td>\n",
       "    </tr>\n",
       "    <tr>\n",
       "      <th>34</th>\n",
       "      <td>NaN</td>\n",
       "      <td>COIMBRES17DEL01</td>\n",
       "      <td>48</td>\n",
       "    </tr>\n",
       "    <tr>\n",
       "      <th>35</th>\n",
       "      <td>NaN</td>\n",
       "      <td>HYDRES06DEL02</td>\n",
       "      <td>48</td>\n",
       "    </tr>\n",
       "    <tr>\n",
       "      <th>36</th>\n",
       "      <td>NaN</td>\n",
       "      <td>RANCHIRES20DEL01</td>\n",
       "      <td>48</td>\n",
       "    </tr>\n",
       "    <tr>\n",
       "      <th>37</th>\n",
       "      <td>NaN</td>\n",
       "      <td>INDORES20DEL03</td>\n",
       "      <td>47</td>\n",
       "    </tr>\n",
       "    <tr>\n",
       "      <th>38</th>\n",
       "      <td>NaN</td>\n",
       "      <td>COIMBRES02DEL02</td>\n",
       "      <td>46</td>\n",
       "    </tr>\n",
       "    <tr>\n",
       "      <th>39</th>\n",
       "      <td>NaN</td>\n",
       "      <td>VADRES16DEL02</td>\n",
       "      <td>46</td>\n",
       "    </tr>\n",
       "  </tbody>\n",
       "</table>\n",
       "</div>"
      ],
      "text/plain": [
       "              city delivery_person_id  time_taken(min)\n",
       "0   Metropolitian     ALHRES010DEL01                54\n",
       "1   Metropolitian     AURGRES13DEL01                54\n",
       "2   Metropolitian     BANGRES02DEL01                54\n",
       "3   Metropolitian      BHPRES16DEL02                54\n",
       "4   Metropolitian     CHENRES02DEL02                54\n",
       "5   Metropolitian     CHENRES04DEL01                54\n",
       "6   Metropolitian     CHENRES07DEL03                54\n",
       "7   Metropolitian     CHENRES08DEL01                54\n",
       "8   Metropolitian     CHENRES13DEL02                54\n",
       "9   Metropolitian   COIMBRES010DEL03                54\n",
       "10          Urban      JAPRES05DEL02                54\n",
       "11          Urban      JAPRES12DEL02                54\n",
       "12          Urban      JAPRES17DEL01                54\n",
       "13          Urban     PUNERES14DEL02                54\n",
       "14          Urban      SURRES08DEL02                54\n",
       "15          Urban      SURRES08DEL03                54\n",
       "16          Urban      VADRES05DEL03                54\n",
       "17          Urban      ALHRES09DEL02                53\n",
       "18          Urban     CHENRES20DEL02                53\n",
       "19          Urban      JAPRES03DEL01                53\n",
       "20     Semi-Urban      AGRRES17DEL01                54\n",
       "21     Semi-Urban    BANGRES010DEL01                54\n",
       "22     Semi-Urban    COIMBRES08DEL03                54\n",
       "23     Semi-Urban      GOARES18DEL01                54\n",
       "24     Semi-Urban      HYDRES19DEL01                54\n",
       "25     Semi-Urban     INDORES15DEL01                54\n",
       "26     Semi-Urban      JAPRES03DEL02                54\n",
       "27     Semi-Urban      JAPRES09DEL01                54\n",
       "28     Semi-Urban      JAPRES14DEL02                54\n",
       "29     Semi-Urban     LUDHRES05DEL01                54\n",
       "30            NaN      AGRRES14DEL01                54\n",
       "31            NaN      MYSRES01DEL01                52\n",
       "32            NaN      SURRES01DEL01                49\n",
       "33            NaN     CHENRES02DEL01                48\n",
       "34            NaN    COIMBRES17DEL01                48\n",
       "35            NaN      HYDRES06DEL02                48\n",
       "36            NaN   RANCHIRES20DEL01                48\n",
       "37            NaN     INDORES20DEL03                47\n",
       "38            NaN    COIMBRES02DEL02                46\n",
       "39            NaN      VADRES16DEL02                46"
      ]
     },
     "execution_count": 34,
     "metadata": {},
     "output_type": "execute_result"
    }
   ],
   "source": [
    "aux = df3[['city', 'delivery_person_id', 'time_taken(min)']].groupby(['city', 'delivery_person_id']).max().sort_values(['time_taken(min)', 'city'], ascending=False).reset_index()\n",
    "\n",
    "aux1 = aux.loc[aux['city'] == 'Metropolitian ', :].head(10)\n",
    "aux2 = aux.loc[aux['city'] == 'Urban ', :].head(10)\n",
    "aux3 = aux.loc[aux['city'] == 'Semi-Urban ', :].head(10)\n",
    "aux4 = aux.loc[aux['city'] == 'NaN ', :].head(10)\n",
    "\n",
    "top_10_slow = pd.concat([aux1, aux2, aux3, aux4]).reset_index(drop=True)\n",
    "top_10_slow"
   ]
  },
  {
   "cell_type": "markdown",
   "id": "86d880ce",
   "metadata": {},
   "source": [
    "# 4.0 A visão: Restaurantes"
   ]
  },
  {
   "cell_type": "code",
   "execution_count": 27,
   "id": "e828d7fd",
   "metadata": {
    "ExecuteTime": {
     "end_time": "2023-04-24T21:45:38.718247Z",
     "start_time": "2023-04-24T21:45:38.708753Z"
    }
   },
   "outputs": [],
   "source": [
    "df4 = df3.copy()"
   ]
  },
  {
   "cell_type": "markdown",
   "id": "a9a0e50a",
   "metadata": {
    "ExecuteTime": {
     "end_time": "2023-04-24T18:39:00.262561Z",
     "start_time": "2023-04-24T18:39:00.255157Z"
    }
   },
   "source": [
    "- 1. A quantidade de entregadores únicos.\n",
    "- 2. A distância média dos resturantes e dos locais de entrega.\n",
    "- 3. O tempo médio e o desvio padrão de entrega por cidade.\n",
    "- 4. O tempo médio e o desvio padrão de entrega por cidade e tipo de pedido.\n",
    "- 5. O tempo médio e o desvio padrão de entrega por cidade e tipo de tráfego.\n",
    "- 6. O tempo médio de entrega durantes os Festivais."
   ]
  },
  {
   "cell_type": "markdown",
   "id": "938bf358",
   "metadata": {},
   "source": [
    "## 4.1 A quantidade de entregadores únicos"
   ]
  },
  {
   "cell_type": "code",
   "execution_count": 28,
   "id": "0aaea9b6",
   "metadata": {
    "ExecuteTime": {
     "end_time": "2023-04-24T21:45:40.070101Z",
     "start_time": "2023-04-24T21:45:40.058482Z"
    }
   },
   "outputs": [
    {
     "name": "stdout",
     "output_type": "stream",
     "text": [
      "Quantidade de entregadores únicos: 1320\n"
     ]
    }
   ],
   "source": [
    "qtd1 = df4['delivery_person_id'].unique()\n",
    "\n",
    "qtd2 = len(qtd1)\n",
    "\n",
    "print(f\"Quantidade de entregadores únicos: {qtd2}\")"
   ]
  },
  {
   "cell_type": "markdown",
   "id": "daddaa74",
   "metadata": {},
   "source": [
    "## 4.2 A distância média dos resturantes e dos locais de entrega"
   ]
  },
  {
   "cell_type": "code",
   "execution_count": 33,
   "id": "6e6a6045",
   "metadata": {
    "ExecuteTime": {
     "end_time": "2023-04-24T21:49:44.141437Z",
     "start_time": "2023-04-24T21:49:43.699844Z"
    }
   },
   "outputs": [
    {
     "name": "stdout",
     "output_type": "stream",
     "text": [
      "A distância média dos restaurantes e dos locais de entrega é de: 38.909788410698305 km\n"
     ]
    }
   ],
   "source": [
    "cols = ['restaurant_latitude', 'restaurant_longitude', 'delivery_location_latitude', 'delivery_location_longitude']\n",
    "\n",
    "df4['distance'] = df4.loc[:, cols].apply(lambda x: haversine((x['restaurant_latitude'], x['restaurant_longitude']), (x['delivery_location_latitude'], x['delivery_location_longitude'])), axis=1)\n",
    "\n",
    "aux_dist = df4['distance'].mean()\n",
    "print(f\"A distância média dos restaurantes e dos locais de entrega é de: {aux_dist} km\")"
   ]
  },
  {
   "cell_type": "markdown",
   "id": "5143cda0",
   "metadata": {},
   "source": [
    "## 4.3 O tempo médio e o desvio padrão de entrega por cidade"
   ]
  },
  {
   "cell_type": "code",
   "execution_count": 67,
   "id": "3120d08d",
   "metadata": {
    "ExecuteTime": {
     "end_time": "2023-04-24T20:59:37.969641Z",
     "start_time": "2023-04-24T20:59:37.946423Z"
    }
   },
   "outputs": [
    {
     "data": {
      "text/html": [
       "<div>\n",
       "<style scoped>\n",
       "    .dataframe tbody tr th:only-of-type {\n",
       "        vertical-align: middle;\n",
       "    }\n",
       "\n",
       "    .dataframe tbody tr th {\n",
       "        vertical-align: top;\n",
       "    }\n",
       "\n",
       "    .dataframe thead th {\n",
       "        text-align: right;\n",
       "    }\n",
       "</style>\n",
       "<table border=\"1\" class=\"dataframe\">\n",
       "  <thead>\n",
       "    <tr style=\"text-align: right;\">\n",
       "      <th></th>\n",
       "      <th>city</th>\n",
       "      <th>time_mean</th>\n",
       "      <th>time_std</th>\n",
       "    </tr>\n",
       "  </thead>\n",
       "  <tbody>\n",
       "    <tr>\n",
       "      <th>0</th>\n",
       "      <td>Metropolitian</td>\n",
       "      <td>27.373295</td>\n",
       "      <td>9.162991</td>\n",
       "    </tr>\n",
       "    <tr>\n",
       "      <th>1</th>\n",
       "      <td>NaN</td>\n",
       "      <td>22.093213</td>\n",
       "      <td>8.368516</td>\n",
       "    </tr>\n",
       "    <tr>\n",
       "      <th>2</th>\n",
       "      <td>Semi-Urban</td>\n",
       "      <td>49.710526</td>\n",
       "      <td>2.724992</td>\n",
       "    </tr>\n",
       "    <tr>\n",
       "      <th>3</th>\n",
       "      <td>Urban</td>\n",
       "      <td>23.093622</td>\n",
       "      <td>8.888026</td>\n",
       "    </tr>\n",
       "  </tbody>\n",
       "</table>\n",
       "</div>"
      ],
      "text/plain": [
       "             city  time_mean  time_std\n",
       "0  Metropolitian   27.373295  9.162991\n",
       "1            NaN   22.093213  8.368516\n",
       "2     Semi-Urban   49.710526  2.724992\n",
       "3          Urban   23.093622  8.888026"
      ]
     },
     "execution_count": 67,
     "metadata": {},
     "output_type": "execute_result"
    }
   ],
   "source": [
    "aux = df4[['time_taken(min)', 'city']].groupby('city').agg({'time_taken(min)' :  ['mean', 'std']}).reset_index()\n",
    "aux.columns = ['city', 'time_mean', 'time_std']\n",
    "\n",
    "aux"
   ]
  },
  {
   "cell_type": "markdown",
   "id": "1f5147f8",
   "metadata": {},
   "source": [
    "## 4.4 O tempo médio e o desvio padrão de entrega por cidade e tipo de pedido"
   ]
  },
  {
   "cell_type": "code",
   "execution_count": 69,
   "id": "2cb85fa2",
   "metadata": {
    "ExecuteTime": {
     "end_time": "2023-04-24T21:00:02.940525Z",
     "start_time": "2023-04-24T21:00:02.909685Z"
    }
   },
   "outputs": [
    {
     "data": {
      "text/html": [
       "<div>\n",
       "<style scoped>\n",
       "    .dataframe tbody tr th:only-of-type {\n",
       "        vertical-align: middle;\n",
       "    }\n",
       "\n",
       "    .dataframe tbody tr th {\n",
       "        vertical-align: top;\n",
       "    }\n",
       "\n",
       "    .dataframe thead th {\n",
       "        text-align: right;\n",
       "    }\n",
       "</style>\n",
       "<table border=\"1\" class=\"dataframe\">\n",
       "  <thead>\n",
       "    <tr style=\"text-align: right;\">\n",
       "      <th></th>\n",
       "      <th>city</th>\n",
       "      <th>type_of_order</th>\n",
       "      <th>time_mean</th>\n",
       "      <th>time_std</th>\n",
       "    </tr>\n",
       "  </thead>\n",
       "  <tbody>\n",
       "    <tr>\n",
       "      <th>0</th>\n",
       "      <td>Metropolitian</td>\n",
       "      <td>Buffet</td>\n",
       "      <td>27.258509</td>\n",
       "      <td>9.181257</td>\n",
       "    </tr>\n",
       "    <tr>\n",
       "      <th>1</th>\n",
       "      <td>Metropolitian</td>\n",
       "      <td>Drinks</td>\n",
       "      <td>27.267952</td>\n",
       "      <td>9.068615</td>\n",
       "    </tr>\n",
       "    <tr>\n",
       "      <th>2</th>\n",
       "      <td>Metropolitian</td>\n",
       "      <td>Meal</td>\n",
       "      <td>27.545644</td>\n",
       "      <td>9.250705</td>\n",
       "    </tr>\n",
       "    <tr>\n",
       "      <th>3</th>\n",
       "      <td>Metropolitian</td>\n",
       "      <td>Snack</td>\n",
       "      <td>27.415601</td>\n",
       "      <td>9.147171</td>\n",
       "    </tr>\n",
       "    <tr>\n",
       "      <th>4</th>\n",
       "      <td>NaN</td>\n",
       "      <td>Buffet</td>\n",
       "      <td>22.222997</td>\n",
       "      <td>8.338496</td>\n",
       "    </tr>\n",
       "    <tr>\n",
       "      <th>5</th>\n",
       "      <td>NaN</td>\n",
       "      <td>Drinks</td>\n",
       "      <td>21.675573</td>\n",
       "      <td>7.893793</td>\n",
       "    </tr>\n",
       "    <tr>\n",
       "      <th>6</th>\n",
       "      <td>NaN</td>\n",
       "      <td>Meal</td>\n",
       "      <td>21.786290</td>\n",
       "      <td>8.247113</td>\n",
       "    </tr>\n",
       "    <tr>\n",
       "      <th>7</th>\n",
       "      <td>NaN</td>\n",
       "      <td>Snack</td>\n",
       "      <td>22.574675</td>\n",
       "      <td>8.882381</td>\n",
       "    </tr>\n",
       "    <tr>\n",
       "      <th>8</th>\n",
       "      <td>Semi-Urban</td>\n",
       "      <td>Buffet</td>\n",
       "      <td>49.707317</td>\n",
       "      <td>2.731702</td>\n",
       "    </tr>\n",
       "    <tr>\n",
       "      <th>9</th>\n",
       "      <td>Semi-Urban</td>\n",
       "      <td>Drinks</td>\n",
       "      <td>49.625000</td>\n",
       "      <td>2.459347</td>\n",
       "    </tr>\n",
       "    <tr>\n",
       "      <th>10</th>\n",
       "      <td>Semi-Urban</td>\n",
       "      <td>Meal</td>\n",
       "      <td>50.300000</td>\n",
       "      <td>3.041665</td>\n",
       "    </tr>\n",
       "    <tr>\n",
       "      <th>11</th>\n",
       "      <td>Semi-Urban</td>\n",
       "      <td>Snack</td>\n",
       "      <td>49.408163</td>\n",
       "      <td>2.707385</td>\n",
       "    </tr>\n",
       "    <tr>\n",
       "      <th>12</th>\n",
       "      <td>Urban</td>\n",
       "      <td>Buffet</td>\n",
       "      <td>23.448729</td>\n",
       "      <td>9.084218</td>\n",
       "    </tr>\n",
       "    <tr>\n",
       "      <th>13</th>\n",
       "      <td>Urban</td>\n",
       "      <td>Drinks</td>\n",
       "      <td>23.152766</td>\n",
       "      <td>8.973997</td>\n",
       "    </tr>\n",
       "    <tr>\n",
       "      <th>14</th>\n",
       "      <td>Urban</td>\n",
       "      <td>Meal</td>\n",
       "      <td>22.943921</td>\n",
       "      <td>8.790535</td>\n",
       "    </tr>\n",
       "    <tr>\n",
       "      <th>15</th>\n",
       "      <td>Urban</td>\n",
       "      <td>Snack</td>\n",
       "      <td>22.830346</td>\n",
       "      <td>8.691160</td>\n",
       "    </tr>\n",
       "  </tbody>\n",
       "</table>\n",
       "</div>"
      ],
      "text/plain": [
       "              city type_of_order  time_mean  time_std\n",
       "0   Metropolitian        Buffet   27.258509  9.181257\n",
       "1   Metropolitian        Drinks   27.267952  9.068615\n",
       "2   Metropolitian          Meal   27.545644  9.250705\n",
       "3   Metropolitian         Snack   27.415601  9.147171\n",
       "4             NaN        Buffet   22.222997  8.338496\n",
       "5             NaN        Drinks   21.675573  7.893793\n",
       "6             NaN          Meal   21.786290  8.247113\n",
       "7             NaN         Snack   22.574675  8.882381\n",
       "8      Semi-Urban        Buffet   49.707317  2.731702\n",
       "9      Semi-Urban        Drinks   49.625000  2.459347\n",
       "10     Semi-Urban          Meal   50.300000  3.041665\n",
       "11     Semi-Urban         Snack   49.408163  2.707385\n",
       "12          Urban        Buffet   23.448729  9.084218\n",
       "13          Urban        Drinks   23.152766  8.973997\n",
       "14          Urban          Meal   22.943921  8.790535\n",
       "15          Urban         Snack   22.830346  8.691160"
      ]
     },
     "execution_count": 69,
     "metadata": {},
     "output_type": "execute_result"
    }
   ],
   "source": [
    "aux2 = df4[['type_of_order', 'time_taken(min)', 'city']].groupby(['city', 'type_of_order']).agg({'time_taken(min)' :  ['mean', 'std']}).reset_index()\n",
    "aux2.columns = ['city', 'type_of_order', 'time_mean', 'time_std']\n",
    "\n",
    "aux2"
   ]
  },
  {
   "cell_type": "markdown",
   "id": "0432ef5a",
   "metadata": {},
   "source": [
    "## 4.5 O tempo médio e o desvio padrão de entrega por cidade e tipo de tráfego."
   ]
  },
  {
   "cell_type": "code",
   "execution_count": 70,
   "id": "32bb3231",
   "metadata": {
    "ExecuteTime": {
     "end_time": "2023-04-24T21:00:50.277785Z",
     "start_time": "2023-04-24T21:00:50.248867Z"
    }
   },
   "outputs": [
    {
     "data": {
      "text/html": [
       "<div>\n",
       "<style scoped>\n",
       "    .dataframe tbody tr th:only-of-type {\n",
       "        vertical-align: middle;\n",
       "    }\n",
       "\n",
       "    .dataframe tbody tr th {\n",
       "        vertical-align: top;\n",
       "    }\n",
       "\n",
       "    .dataframe thead th {\n",
       "        text-align: right;\n",
       "    }\n",
       "</style>\n",
       "<table border=\"1\" class=\"dataframe\">\n",
       "  <thead>\n",
       "    <tr style=\"text-align: right;\">\n",
       "      <th></th>\n",
       "      <th>city</th>\n",
       "      <th>road_traffic_density</th>\n",
       "      <th>time_mean</th>\n",
       "      <th>time_std</th>\n",
       "    </tr>\n",
       "  </thead>\n",
       "  <tbody>\n",
       "    <tr>\n",
       "      <th>0</th>\n",
       "      <td>Metropolitian</td>\n",
       "      <td>High</td>\n",
       "      <td>28.103888</td>\n",
       "      <td>7.935947</td>\n",
       "    </tr>\n",
       "    <tr>\n",
       "      <th>1</th>\n",
       "      <td>Metropolitian</td>\n",
       "      <td>Jam</td>\n",
       "      <td>31.937908</td>\n",
       "      <td>9.509890</td>\n",
       "    </tr>\n",
       "    <tr>\n",
       "      <th>2</th>\n",
       "      <td>Metropolitian</td>\n",
       "      <td>Low</td>\n",
       "      <td>22.193973</td>\n",
       "      <td>6.827415</td>\n",
       "    </tr>\n",
       "    <tr>\n",
       "      <th>3</th>\n",
       "      <td>Metropolitian</td>\n",
       "      <td>Medium</td>\n",
       "      <td>27.694076</td>\n",
       "      <td>8.332809</td>\n",
       "    </tr>\n",
       "    <tr>\n",
       "      <th>4</th>\n",
       "      <td>Metropolitian</td>\n",
       "      <td>NaN</td>\n",
       "      <td>26.156250</td>\n",
       "      <td>8.227362</td>\n",
       "    </tr>\n",
       "    <tr>\n",
       "      <th>5</th>\n",
       "      <td>NaN</td>\n",
       "      <td>High</td>\n",
       "      <td>23.419355</td>\n",
       "      <td>8.454896</td>\n",
       "    </tr>\n",
       "    <tr>\n",
       "      <th>6</th>\n",
       "      <td>NaN</td>\n",
       "      <td>Jam</td>\n",
       "      <td>25.549451</td>\n",
       "      <td>9.536999</td>\n",
       "    </tr>\n",
       "    <tr>\n",
       "      <th>7</th>\n",
       "      <td>NaN</td>\n",
       "      <td>Low</td>\n",
       "      <td>19.223124</td>\n",
       "      <td>6.240026</td>\n",
       "    </tr>\n",
       "    <tr>\n",
       "      <th>8</th>\n",
       "      <td>NaN</td>\n",
       "      <td>Medium</td>\n",
       "      <td>23.561475</td>\n",
       "      <td>8.790679</td>\n",
       "    </tr>\n",
       "    <tr>\n",
       "      <th>9</th>\n",
       "      <td>NaN</td>\n",
       "      <td>NaN</td>\n",
       "      <td>17.000000</td>\n",
       "      <td>0.000000</td>\n",
       "    </tr>\n",
       "    <tr>\n",
       "      <th>10</th>\n",
       "      <td>Semi-Urban</td>\n",
       "      <td>High</td>\n",
       "      <td>50.125000</td>\n",
       "      <td>2.629956</td>\n",
       "    </tr>\n",
       "    <tr>\n",
       "      <th>11</th>\n",
       "      <td>Semi-Urban</td>\n",
       "      <td>Jam</td>\n",
       "      <td>49.841270</td>\n",
       "      <td>2.717095</td>\n",
       "    </tr>\n",
       "    <tr>\n",
       "      <th>12</th>\n",
       "      <td>Semi-Urban</td>\n",
       "      <td>Medium</td>\n",
       "      <td>47.400000</td>\n",
       "      <td>2.011080</td>\n",
       "    </tr>\n",
       "    <tr>\n",
       "      <th>13</th>\n",
       "      <td>Urban</td>\n",
       "      <td>High</td>\n",
       "      <td>24.206081</td>\n",
       "      <td>8.535574</td>\n",
       "    </tr>\n",
       "    <tr>\n",
       "      <th>14</th>\n",
       "      <td>Urban</td>\n",
       "      <td>Jam</td>\n",
       "      <td>27.905200</td>\n",
       "      <td>10.125553</td>\n",
       "    </tr>\n",
       "    <tr>\n",
       "      <th>15</th>\n",
       "      <td>Urban</td>\n",
       "      <td>Low</td>\n",
       "      <td>19.336444</td>\n",
       "      <td>6.351539</td>\n",
       "    </tr>\n",
       "    <tr>\n",
       "      <th>16</th>\n",
       "      <td>Urban</td>\n",
       "      <td>Medium</td>\n",
       "      <td>23.764470</td>\n",
       "      <td>8.440659</td>\n",
       "    </tr>\n",
       "    <tr>\n",
       "      <th>17</th>\n",
       "      <td>Urban</td>\n",
       "      <td>NaN</td>\n",
       "      <td>21.960000</td>\n",
       "      <td>6.031031</td>\n",
       "    </tr>\n",
       "  </tbody>\n",
       "</table>\n",
       "</div>"
      ],
      "text/plain": [
       "              city road_traffic_density  time_mean   time_std\n",
       "0   Metropolitian                 High   28.103888   7.935947\n",
       "1   Metropolitian                  Jam   31.937908   9.509890\n",
       "2   Metropolitian                  Low   22.193973   6.827415\n",
       "3   Metropolitian               Medium   27.694076   8.332809\n",
       "4   Metropolitian                  NaN   26.156250   8.227362\n",
       "5             NaN                 High   23.419355   8.454896\n",
       "6             NaN                  Jam   25.549451   9.536999\n",
       "7             NaN                  Low   19.223124   6.240026\n",
       "8             NaN               Medium   23.561475   8.790679\n",
       "9             NaN                  NaN   17.000000   0.000000\n",
       "10     Semi-Urban                 High   50.125000   2.629956\n",
       "11     Semi-Urban                  Jam   49.841270   2.717095\n",
       "12     Semi-Urban               Medium   47.400000   2.011080\n",
       "13          Urban                 High   24.206081   8.535574\n",
       "14          Urban                  Jam   27.905200  10.125553\n",
       "15          Urban                  Low   19.336444   6.351539\n",
       "16          Urban               Medium   23.764470   8.440659\n",
       "17          Urban                  NaN   21.960000   6.031031"
      ]
     },
     "execution_count": 70,
     "metadata": {},
     "output_type": "execute_result"
    }
   ],
   "source": [
    "aux3 = df4[['road_traffic_density', 'time_taken(min)', 'city']].groupby(['city', 'road_traffic_density']).agg({'time_taken(min)' :  ['mean', 'std']}).reset_index()\n",
    "aux3.columns = ['city', 'road_traffic_density', 'time_mean', 'time_std']\n",
    "\n",
    "aux3"
   ]
  },
  {
   "cell_type": "markdown",
   "id": "ac716e83",
   "metadata": {},
   "source": [
    "## 4.6 O tempo médio de entrega durantes os Festivais"
   ]
  },
  {
   "cell_type": "code",
   "execution_count": 83,
   "id": "86f8fbda",
   "metadata": {
    "ExecuteTime": {
     "end_time": "2023-04-24T21:16:43.817274Z",
     "start_time": "2023-04-24T21:16:43.795319Z"
    }
   },
   "outputs": [
    {
     "data": {
      "text/html": [
       "<div>\n",
       "<style scoped>\n",
       "    .dataframe tbody tr th:only-of-type {\n",
       "        vertical-align: middle;\n",
       "    }\n",
       "\n",
       "    .dataframe tbody tr th {\n",
       "        vertical-align: top;\n",
       "    }\n",
       "\n",
       "    .dataframe thead th {\n",
       "        text-align: right;\n",
       "    }\n",
       "</style>\n",
       "<table border=\"1\" class=\"dataframe\">\n",
       "  <thead>\n",
       "    <tr style=\"text-align: right;\">\n",
       "      <th></th>\n",
       "      <th>festival</th>\n",
       "      <th>time_mean</th>\n",
       "    </tr>\n",
       "  </thead>\n",
       "  <tbody>\n",
       "    <tr>\n",
       "      <th>0</th>\n",
       "      <td>Yes</td>\n",
       "      <td>45.489387</td>\n",
       "    </tr>\n",
       "  </tbody>\n",
       "</table>\n",
       "</div>"
      ],
      "text/plain": [
       "  festival  time_mean\n",
       "0     Yes   45.489387"
      ]
     },
     "execution_count": 83,
     "metadata": {},
     "output_type": "execute_result"
    }
   ],
   "source": [
    "aux_fest = df4.loc[df1['festival'] == 'Yes ' , :].groupby(['festival']).agg({'time_taken(min)' :  'mean'})\n",
    "aux_fest.columns = ['time_mean']\n",
    "\n",
    "aux_fest.reset_index()"
   ]
  },
  {
   "cell_type": "code",
   "execution_count": null,
   "id": "2b93e67f",
   "metadata": {},
   "outputs": [],
   "source": []
  }
 ],
 "metadata": {
  "kernelspec": {
   "display_name": "Python 3 (ipykernel)",
   "language": "python",
   "name": "python3"
  },
  "language_info": {
   "codemirror_mode": {
    "name": "ipython",
    "version": 3
   },
   "file_extension": ".py",
   "mimetype": "text/x-python",
   "name": "python",
   "nbconvert_exporter": "python",
   "pygments_lexer": "ipython3",
   "version": "3.8.13"
  },
  "varInspector": {
   "cols": {
    "lenName": 16,
    "lenType": 16,
    "lenVar": 40
   },
   "kernels_config": {
    "python": {
     "delete_cmd_postfix": "",
     "delete_cmd_prefix": "del ",
     "library": "var_list.py",
     "varRefreshCmd": "print(var_dic_list())"
    },
    "r": {
     "delete_cmd_postfix": ") ",
     "delete_cmd_prefix": "rm(",
     "library": "var_list.r",
     "varRefreshCmd": "cat(var_dic_list()) "
    }
   },
   "types_to_exclude": [
    "module",
    "function",
    "builtin_function_or_method",
    "instance",
    "_Feature"
   ],
   "window_display": false
  }
 },
 "nbformat": 4,
 "nbformat_minor": 5
}
